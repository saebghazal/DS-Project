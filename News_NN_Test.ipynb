{
 "cells": [
  {
   "cell_type": "code",
   "execution_count": 1,
   "metadata": {},
   "outputs": [
    {
     "name": "stderr",
     "output_type": "stream",
     "text": [
      "Using TensorFlow backend.\n"
     ]
    }
   ],
   "source": [
    "# load model\n",
    "from keras.models import load_model\n",
    "mymodel =  load_model('news_cnn.mdl') \n",
    "\n",
    "# load word2index Pickle\n",
    "import pickle\n",
    "pkl_file = open('word2index.pkl', 'rb')\n",
    "word2index = pickle.load(pkl_file)\n",
    "pkl_file.close()"
   ]
  },
  {
   "cell_type": "code",
   "execution_count": 2,
   "metadata": {},
   "outputs": [
    {
     "data": {
      "text/plain": [
       "10000"
      ]
     },
     "execution_count": 2,
     "metadata": {},
     "output_type": "execute_result"
    }
   ],
   "source": [
    "len(word2index)"
   ]
  },
  {
   "cell_type": "code",
   "execution_count": 3,
   "metadata": {
    "collapsed": true
   },
   "outputs": [],
   "source": [
    "# make function to do predction based on loaded  model\n",
    "import nltk \n",
    "from keras.preprocessing.sequence import pad_sequences\n",
    "\n",
    "def pred_cnn(title , cnn_model):\n",
    "    xs = []\n",
    "    words = [x.lower() for x in nltk.word_tokenize(title)]\n",
    "    wids  = [word2index[word] for word in words]\n",
    "    xs.append(wids)\n",
    "    X = pad_sequences(xs, maxlen=64)\n",
    "    preds = cnn_model.predict_classes(X)\n",
    "    lst=['e','b','t','m'] \n",
    "    return  lst [preds[0]]\n"
   ]
  },
  {
   "cell_type": "code",
   "execution_count": 4,
   "metadata": {},
   "outputs": [
    {
     "name": "stdout",
     "output_type": "stream",
     "text": [
      "1/1 [==============================] - 0s\n"
     ]
    },
    {
     "data": {
      "text/plain": [
       "'e'"
      ]
     },
     "execution_count": 4,
     "metadata": {},
     "output_type": "execute_result"
    }
   ],
   "source": [
    "# test the model\n",
    "title=\" See Mark Hamill prank 'Star Wars' superfans \"\n",
    "pred_cnn(title,mymodel)"
   ]
  },
  {
   "cell_type": "code",
   "execution_count": 16,
   "metadata": {
    "collapsed": true
   },
   "outputs": [],
   "source": [
    "\n",
    "\n"
   ]
  },
  {
   "cell_type": "code",
   "execution_count": 10,
   "metadata": {},
   "outputs": [],
   "source": [
    "\n",
    "\n",
    "\n",
    "import nltk \n",
    "import pickle\n",
    "from keras.preprocessing.sequence import pad_sequences\n",
    "from keras.models import load_model\n",
    "\n",
    "def pred_cnn(title , cnn_model= 'news_cnn.mdl',word2indexfile='word2index.pkl'):\n",
    "    pkl_file = open('word2index.pkl', 'rb')\n",
    "    word2index = pickle.load(pkl_file)\n",
    "    \n",
    "    mymodel =  load_model(cnn_model) \n",
    "    \n",
    "    xs = []\n",
    "    words = [x.lower() for x in nltk.word_tokenize(title)]\n",
    "    wids  = [word2index[word] for word in words]\n",
    "    xs.append(wids)\n",
    "    X = pad_sequences(xs, maxlen=64)\n",
    "    preds = mymodel.predict_classes(X)\n",
    "    lst=['e','b','t','m'] \n",
    "    return  lst [preds[0]]\n",
    "\n"
   ]
  },
  {
   "cell_type": "code",
   "execution_count": 11,
   "metadata": {},
   "outputs": [
    {
     "name": "stdout",
     "output_type": "stream",
     "text": [
      "1/1 [==============================] - 0s\n"
     ]
    },
    {
     "data": {
      "text/plain": [
       "'e'"
      ]
     },
     "execution_count": 11,
     "metadata": {},
     "output_type": "execute_result"
    }
   ],
   "source": [
    "pred_cnn('love')"
   ]
  },
  {
   "cell_type": "code",
   "execution_count": 1,
   "metadata": {},
   "outputs": [],
   "source": [
    "# create small data set for testing models\n",
    "\n",
    "import pandas as pd\n",
    "news = pd.read_csv(\"uci-news-aggregator.csv\")\n",
    "\n",
    "news_b=news[news.CATEGORY=='b'][:10000]\n",
    "news_t=news[news.CATEGORY=='t'][:10000]\n",
    "news_e=news[news.CATEGORY=='e'][:10000]\n",
    "news_m=news[news.CATEGORY=='m'][:10000]\n",
    "\n",
    "newsall = pd.concat([news_b,news_t,news_e,news_m])\n",
    "\n",
    "newsall.to_csv('uci-news-aggregator_small.csv',sep=',',encoding='utf8',header=True)"
   ]
  },
  {
   "cell_type": "code",
   "execution_count": 2,
   "metadata": {
    "collapsed": true
   },
   "outputs": [],
   "source": []
  },
  {
   "cell_type": "code",
   "execution_count": 9,
   "metadata": {},
   "outputs": [],
   "source": []
  }
 ],
 "metadata": {
  "kernelspec": {
   "display_name": "Python 3",
   "language": "python",
   "name": "python3"
  },
  "language_info": {
   "codemirror_mode": {
    "name": "ipython",
    "version": 3
   },
   "file_extension": ".py",
   "mimetype": "text/x-python",
   "name": "python",
   "nbconvert_exporter": "python",
   "pygments_lexer": "ipython3",
   "version": "3.5.0"
  }
 },
 "nbformat": 4,
 "nbformat_minor": 2
}
