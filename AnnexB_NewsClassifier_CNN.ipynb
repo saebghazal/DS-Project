{
 "cells": [
  {
   "cell_type": "markdown",
   "metadata": {},
   "source": [
    "# Annex-A\n",
    "This is part of the final project of the Applied Data Science course. In this piece of work, The <b>TITLE</b> column was transformed using word2vec, and the model was trained using Convolutional Neural Networks (CNN)."
   ]
  },
  {
   "cell_type": "markdown",
   "metadata": {},
   "source": [
    "### Required Imports"
   ]
  },
  {
   "cell_type": "code",
   "execution_count": 1,
   "metadata": {
    "collapsed": false
   },
   "outputs": [
    {
     "name": "stderr",
     "output_type": "stream",
     "text": [
      "Using TensorFlow backend.\n"
     ]
    }
   ],
   "source": [
    "from keras.layers import Dense, Dropout, SpatialDropout1D\n",
    "from keras.layers.convolutional import Conv1D\n",
    "from keras.layers.embeddings import Embedding\n",
    "from keras.layers.pooling import GlobalMaxPooling1D\n",
    "from keras.models import Sequential\n",
    "from keras.preprocessing.sequence import pad_sequences\n",
    "from keras.utils import np_utils\n",
    "from sklearn.model_selection import train_test_split \n",
    "from sklearn.metrics import confusion_matrix, classification_report, accuracy_score\n",
    "import collections\n",
    "import matplotlib.pyplot as plt\n",
    "import nltk\n",
    "import numpy as np\n",
    "import pandas as pd\n",
    "import nltk \n",
    "from keras.preprocessing.sequence import pad_sequences\n",
    "from ipywidgets import widgets\n",
    "from IPython.display import display\n",
    "from IPython.display import clear_output\n",
    "import pickle\n",
    "from lime.lime_text import LimeTextExplainer\n",
    "from keras.models import load_model\n",
    "\n",
    "np.random.seed(42)"
   ]
  },
  {
   "cell_type": "code",
   "execution_count": 2,
   "metadata": {
    "collapsed": false
   },
   "outputs": [],
   "source": [
    "# It might be needed to download puntk\n",
    "# nltk.download('punkt')"
   ]
  },
  {
   "cell_type": "markdown",
   "metadata": {},
   "source": [
    "#### Helper Functions"
   ]
  },
  {
   "cell_type": "code",
   "execution_count": 3,
   "metadata": {
    "collapsed": true
   },
   "outputs": [],
   "source": [
    "def class_desc(p_class):\n",
    "    '''\n",
    "    This function is to return the description of CATEGORY.\n",
    "    '''\n",
    "    if p_class == 'b':\n",
    "        str = 'Business'\n",
    "    elif p_class == 't':\n",
    "        str = 'Science and Technology'\n",
    "    elif p_class == 'e':\n",
    "        str = 'Entertainment'\n",
    "    elif p_class == 'm':\n",
    "        str = 'Health'\n",
    "    else:\n",
    "        p_class = ''\n",
    "    return str"
   ]
  },
  {
   "cell_type": "markdown",
   "metadata": {},
   "source": [
    "### Get the Data"
   ]
  },
  {
   "cell_type": "code",
   "execution_count": 4,
   "metadata": {
    "collapsed": true
   },
   "outputs": [],
   "source": [
    "news = pd.read_csv(\"uci-news-aggregator.csv\")"
   ]
  },
  {
   "cell_type": "markdown",
   "metadata": {},
   "source": [
    "### Data Preprocessing"
   ]
  },
  {
   "cell_type": "code",
   "execution_count": 5,
   "metadata": {
    "collapsed": true
   },
   "outputs": [],
   "source": [
    "dfnews=news[['CATEGORY','TITLE']].copy()\n",
    "# change categories to numbers\n",
    "dfnews.loc[dfnews[\"CATEGORY\"] == \"e\", \"CATEGORY\"] = 0\n",
    "dfnews.loc[dfnews[\"CATEGORY\"] == \"b\", \"CATEGORY\"] = 1\n",
    "dfnews.loc[dfnews[\"CATEGORY\"] == \"t\", \"CATEGORY\"] = 2\n",
    "dfnews.loc[dfnews[\"CATEGORY\"] == \"m\", \"CATEGORY\"] = 3"
   ]
  },
  {
   "cell_type": "code",
   "execution_count": 6,
   "metadata": {
    "collapsed": false
   },
   "outputs": [],
   "source": [
    "counter = collections.Counter()\n",
    "maxlen = 0\n",
    "for i in range(0, len(dfnews)):\n",
    "    sent = dfnews.iloc[i]['TITLE']\n",
    "    words = [x.lower() for x in nltk.word_tokenize(sent)]\n",
    "    if len(words) > maxlen:\n",
    "        maxlen = len(words)\n",
    "    for word in words:\n",
    "            counter[word] += 1\n"
   ]
  },
  {
   "cell_type": "markdown",
   "metadata": {},
   "source": [
    "### Data Representation"
   ]
  },
  {
   "cell_type": "code",
   "execution_count": 7,
   "metadata": {
    "collapsed": true
   },
   "outputs": [],
   "source": [
    "VOCAB_SIZE=10000"
   ]
  },
  {
   "cell_type": "code",
   "execution_count": 8,
   "metadata": {
    "collapsed": true
   },
   "outputs": [],
   "source": [
    "word2index = collections.defaultdict(int)\n",
    "for wid, word in enumerate(counter.most_common(VOCAB_SIZE)):\n",
    "    word2index[word[0]] = wid + 1\n",
    "vocab_sz = len(word2index) + 1\n",
    "index2word = {v:k for k, v in word2index.items()}"
   ]
  },
  {
   "cell_type": "code",
   "execution_count": 9,
   "metadata": {
    "collapsed": true
   },
   "outputs": [],
   "source": [
    "#  Save word2index to Pickle file\n",
    "output = open('word2index.pkl', 'wb')\n",
    "pickle.dump(word2index, output)\n",
    "output.close()"
   ]
  },
  {
   "cell_type": "code",
   "execution_count": 10,
   "metadata": {
    "collapsed": true
   },
   "outputs": [],
   "source": [
    "# load word2index Pickle\n",
    "pkl_file = open('word2index.pkl', 'rb')\n",
    "word2index = pickle.load(pkl_file)\n",
    "pkl_file.close()"
   ]
  },
  {
   "cell_type": "code",
   "execution_count": 11,
   "metadata": {
    "collapsed": true
   },
   "outputs": [],
   "source": [
    "# Prepare data for the CNN  model\n",
    "xs, ys = [], []\n",
    "# with open(INPUT_FILE, \"r\", encoding='utf-8') as f:\n",
    "#     for line in f:\n",
    "for i in range(0, len(dfnews)):\n",
    "#         label, sent = line.strip().split(\"\\t\")\n",
    "    sent = dfnews.iloc[i]['TITLE']\n",
    "    label=dfnews.iloc[i]['CATEGORY']\n",
    "    ys.append(int(label))\n",
    "    words = [x.lower() for x in nltk.word_tokenize(sent)]\n",
    "    wids = [word2index[word] for word in words]\n",
    "    xs.append(wids)"
   ]
  },
  {
   "cell_type": "code",
   "execution_count": 12,
   "metadata": {
    "collapsed": false
   },
   "outputs": [],
   "source": [
    "# Setting maxlen \n",
    "maxlen=64"
   ]
  },
  {
   "cell_type": "markdown",
   "metadata": {},
   "source": [
    "### Data Split"
   ]
  },
  {
   "cell_type": "code",
   "execution_count": 13,
   "metadata": {
    "collapsed": false
   },
   "outputs": [
    {
     "name": "stdout",
     "output_type": "stream",
     "text": [
      "(295693, 64) (126726, 64) (295693, 4) (126726, 4)\n"
     ]
    }
   ],
   "source": [
    "X = pad_sequences(xs, maxlen=maxlen)\n",
    "y = np_utils.to_categorical(ys, num_classes=4)\n",
    "\n",
    "X_train, X_test, y_train, y_test = train_test_split(X, y, test_size=0.3, \n",
    "                                                random_state=42)\n",
    "print(X_train.shape, X_test.shape, y_train.shape, y_test.shape)"
   ]
  },
  {
   "cell_type": "markdown",
   "metadata": {},
   "source": [
    "### CNN Model"
   ]
  },
  {
   "cell_type": "code",
   "execution_count": 14,
   "metadata": {
    "collapsed": true
   },
   "outputs": [],
   "source": [
    "# Model paameters\n",
    "EMBED_SIZE=100\n",
    "NUM_WORDS=5\n",
    "NUM_FILTERS=256\n",
    "NUM_EPOCHS=1\n",
    "BATCH_SIZE=300\n"
   ]
  },
  {
   "cell_type": "markdown",
   "metadata": {},
   "source": [
    "#### Model Training"
   ]
  },
  {
   "cell_type": "code",
   "execution_count": 15,
   "metadata": {
    "collapsed": true
   },
   "outputs": [],
   "source": [
    "# Model initialization\n",
    "model = Sequential()\n",
    "model.add(Embedding(vocab_sz, EMBED_SIZE, input_length=maxlen))\n",
    "#model.add(SpatialDropout1D(Dropout(0.2))) #---- not supported in keras 2\n",
    "model.add(SpatialDropout1D(0.2))\n",
    "model.add(Conv1D(filters=NUM_FILTERS, kernel_size=NUM_WORDS, activation=\"relu\"))\n",
    "model.add(GlobalMaxPooling1D())\n",
    "model.add(Dense(4, activation=\"softmax\"))"
   ]
  },
  {
   "cell_type": "code",
   "execution_count": 16,
   "metadata": {
    "collapsed": false
   },
   "outputs": [
    {
     "name": "stdout",
     "output_type": "stream",
     "text": [
      "Train on 295693 samples, validate on 126726 samples\n",
      "Epoch 1/1\n",
      "295693/295693 [==============================] - 372s - loss: 0.1224 - acc: 0.9525 - val_loss: 0.0828 - val_acc: 0.9694\n"
     ]
    }
   ],
   "source": [
    "model.compile(optimizer=\"adam\", loss=\"binary_crossentropy\",\n",
    "              metrics=[\"accuracy\"])\n",
    "history = model.fit(X_train, y_train, batch_size=BATCH_SIZE, verbose=True,\n",
    "                    epochs=NUM_EPOCHS,\n",
    "                    validation_data=(X_test, y_test))  "
   ]
  },
  {
   "cell_type": "markdown",
   "metadata": {},
   "source": [
    "#### Model Evaluation"
   ]
  },
  {
   "cell_type": "code",
   "execution_count": 17,
   "metadata": {
    "collapsed": false
   },
   "outputs": [
    {
     "name": "stdout",
     "output_type": "stream",
     "text": [
      "126592/126726 [============================>.] - ETA: 0sTest score: 0.083, accuracy: 0.969\n"
     ]
    }
   ],
   "source": [
    "score = model.evaluate(X_test, y_test, verbose=True ) # verbose=1 to see output\n",
    "print(\"Test score: {:.3f}, accuracy: {:.3f}\".format(score[0], score[1]))"
   ]
  },
  {
   "cell_type": "code",
   "execution_count": 18,
   "metadata": {
    "collapsed": true
   },
   "outputs": [],
   "source": [
    "# save the model\n",
    "model.save('news_cnn.mdl',overwrite=True,include_optimizer=True)"
   ]
  },
  {
   "cell_type": "markdown",
   "metadata": {},
   "source": [
    "### Model Deployment"
   ]
  },
  {
   "cell_type": "code",
   "execution_count": 19,
   "metadata": {
    "collapsed": false
   },
   "outputs": [],
   "source": [
    "# load the saved model\n",
    "mymodel =  load_model('news_cnn.mdl')"
   ]
  },
  {
   "cell_type": "code",
   "execution_count": 71,
   "metadata": {
    "collapsed": false
   },
   "outputs": [],
   "source": [
    "def pred_cnn(p_title):\n",
    "    '''\n",
    "    This function is o do the predction based on loaded  model\n",
    "    '''\n",
    "    xs = []\n",
    "    words = [x.lower() for x in nltk.word_tokenize(p_title)]\n",
    "    wids  = [word2index[word] for word in words]\n",
    "    xs.append(wids)\n",
    "    X = pad_sequences(xs, maxlen=64)\n",
    "    preds = mymodel.predict_classes(X)\n",
    "    prob = mymodel.predict_proba(batch_size=65, x=X)\n",
    "    lst=['e','b','t','m']\n",
    "    print(p_title)\n",
    "    print('Category: ',class_desc(lst [preds[0]]))\n",
    "#     class_names = ['b','e','m','t']\n",
    "#     explainer = LimeTextExplainer(class_names=class_names)\n",
    "#     exp = explainer.explain_instance(p_title, mymodel.predict_proba(X), num_features=6, top_labels=4)\n",
    "#     exp.save_to_file('/tmp/oi.html')\n",
    "#     exp.show_in_notebook(text=True)"
   ]
  },
  {
   "cell_type": "code",
   "execution_count": 72,
   "metadata": {
    "collapsed": false
   },
   "outputs": [
    {
     "name": "stdout",
     "output_type": "stream",
     "text": [
      "1/1 [==============================] - 0s\n",
      "1/1 [==============================] - 0s\n",
      "Child’s Play Is Good for All of Us\n",
      "Category:  Entertainment\n"
     ]
    }
   ],
   "source": [
    "caption = widgets.Label('Enter an article here:')\n",
    "text = widgets.Textarea()\n",
    "button = widgets.Button(description=\"Classify\")\n",
    "display(caption,text,button)\n",
    "\n",
    "def handle_submit(sender):\n",
    "    message = text.value\n",
    "    clear_output()\n",
    "    pred_cnn(message)\n",
    "    \n",
    "button.on_click(handle_submit)"
   ]
  },
  {
   "cell_type": "markdown",
   "metadata": {
    "collapsed": true
   },
   "source": [
    "Testing Examples:\n",
    "    - IBM sales has grown 33% in the last 5 years\n",
    "    - Pearson shareholders reject chief executive's £1.5m pay package \n",
    "    - World Bank transfers $5.6 million to PA\n",
    "    - Child’s Play Is Good for All of Us\n",
    "    - Why Kids Shouldn’t Sit Still in Class\n",
    "    - Why Deep Breathing May Keep Us Calm\n",
    "    - In Rare Unity, Hospitals, Doctors and Insurers Criticize Health Bill\n",
    "    - Scientists can now count birds from space\n",
    "    - What to expect with the iPhone 8\n",
    "    - See Mark Hamill prank 'Star Wars' superfans\n",
    "    - Lyft and Waymo Reach Deal to Collaborate on Self-Driving Cars"
   ]
  }
 ],
 "metadata": {
  "anaconda-cloud": {},
  "kernelspec": {
   "display_name": "Python [default]",
   "language": "python",
   "name": "python3"
  },
  "language_info": {
   "codemirror_mode": {
    "name": "ipython",
    "version": 3
   },
   "file_extension": ".py",
   "mimetype": "text/x-python",
   "name": "python",
   "nbconvert_exporter": "python",
   "pygments_lexer": "ipython3",
   "version": "3.5.2"
  },
  "widgets": {
   "state": {
    "040ba4ac50b44e37815f7bef4f3eb0c0": {
     "views": [
      {
       "cell_index": 30
      }
     ]
    },
    "07a14e374b4f42af980d2c89dfd21c1a": {
     "views": [
      {
       "cell_index": 28
      }
     ]
    },
    "11e6dcdd2d9444abade8e77ea440c6a9": {
     "views": [
      {
       "cell_index": 31
      }
     ]
    },
    "138d6c6ebbe94749a089799a56341226": {
     "views": [
      {
       "cell_index": 31
      }
     ]
    },
    "13f45b2200624207b7d1c4942b4460de": {
     "views": [
      {
       "cell_index": 30
      }
     ]
    },
    "1b5404b90d5d4d9181ec1d8a8dd2e51b": {
     "views": [
      {
       "cell_index": 30
      }
     ]
    },
    "1fecd55abd3a4466abcdd78885817b9c": {
     "views": [
      {
       "cell_index": 31
      }
     ]
    },
    "20ce97bba4f44104a98cc7d26ef9dddb": {
     "views": [
      {
       "cell_index": 30
      }
     ]
    },
    "22f026d5d4624b7f8115f49d7e303dbd": {
     "views": [
      {
       "cell_index": 30
      }
     ]
    },
    "2ab376edac1b4773b231ffd67c8015f6": {
     "views": [
      {
       "cell_index": 31
      }
     ]
    },
    "2ead43147f8a47be8a36251ff3037318": {
     "views": [
      {
       "cell_index": 31
      }
     ]
    },
    "32bfc95401ce4f1ba0e23928266f3dd2": {
     "views": [
      {
       "cell_index": 30
      }
     ]
    },
    "39271bdcf518474ba09ea7a3025e9421": {
     "views": [
      {
       "cell_index": 31
      }
     ]
    },
    "3e6d44a79b7c4e6095b6573abad22ff9": {
     "views": [
      {
       "cell_index": 30
      }
     ]
    },
    "3eeb084334d2408588f397a4d4f82bc9": {
     "views": [
      {
       "cell_index": 31
      }
     ]
    },
    "419b86ee14a346fbb52d4af34f68d634": {
     "views": [
      {
       "cell_index": 31
      }
     ]
    },
    "44c2d734c9c94ecfabdc6944f739a687": {
     "views": [
      {
       "cell_index": 30
      }
     ]
    },
    "44f2b21418e64ea28928f6d21f1078cc": {
     "views": [
      {
       "cell_index": 30
      }
     ]
    },
    "467a21c0a34e48b4887b896f4021fa85": {
     "views": [
      {
       "cell_index": 30
      }
     ]
    },
    "4ab43ad2632845cf810989e7d551f9e0": {
     "views": [
      {
       "cell_index": 30
      }
     ]
    },
    "5b2f8a9d3e8c4b7982e0e245737a4077": {
     "views": [
      {
       "cell_index": 31
      }
     ]
    },
    "6b284003591e4a6b870dadd706b7e04d": {
     "views": [
      {
       "cell_index": 28
      }
     ]
    },
    "6f159431f499478f9f46aeb42e4926fb": {
     "views": [
      {
       "cell_index": 28
      }
     ]
    },
    "73311c84c10245b99d7d5e47c7794616": {
     "views": [
      {
       "cell_index": 31
      }
     ]
    },
    "7b97a326e61a4f8e841cdc6e9a2955e4": {
     "views": [
      {
       "cell_index": 30
      }
     ]
    },
    "8a0ba0d31f5f4ee38b9fe4283e756f4f": {
     "views": [
      {
       "cell_index": 28
      }
     ]
    },
    "8e806ba05c544210b8df8221684fb635": {
     "views": [
      {
       "cell_index": 31
      }
     ]
    },
    "9177c0feaa7343d189e1c2806ab5bd8b": {
     "views": [
      {
       "cell_index": 30
      }
     ]
    },
    "946b7a59e70244229947f6a2013d2aea": {
     "views": [
      {
       "cell_index": 31
      }
     ]
    },
    "9ed3efa4691649e09f420cd7a563a91e": {
     "views": [
      {
       "cell_index": 30
      }
     ]
    },
    "a1d77b01fdf74f768193530f9ab97ce2": {
     "views": [
      {
       "cell_index": 30
      }
     ]
    },
    "a51a598653b2428db895b686e3607233": {
     "views": [
      {
       "cell_index": 30
      }
     ]
    },
    "a52f5643245c4665bea68d9a88a31ba2": {
     "views": [
      {
       "cell_index": 31
      }
     ]
    },
    "a7b01add1a0d407a91cb4195a782f822": {
     "views": [
      {
       "cell_index": 29
      }
     ]
    },
    "a83316e7a57b4d0d87c5689b58390a7f": {
     "views": [
      {
       "cell_index": 30
      }
     ]
    },
    "ac3544f38c6d432ab7f40ce9be41c4e8": {
     "views": [
      {
       "cell_index": 31
      }
     ]
    },
    "adb2a712c5b049e097af50785ab70a01": {
     "views": [
      {
       "cell_index": 31
      }
     ]
    },
    "aec7dcc906d048e491146cb05571fa16": {
     "views": [
      {
       "cell_index": 31
      }
     ]
    },
    "b6a678f7082a44e6af642528cb822db5": {
     "views": [
      {
       "cell_index": 31
      }
     ]
    },
    "b71f48549c4d405d9ca357a426f33a24": {
     "views": [
      {
       "cell_index": 31
      }
     ]
    },
    "b9f99e7462a74877a196fed1a714e92f": {
     "views": [
      {
       "cell_index": 31
      }
     ]
    },
    "ba0842f950494fff921753612c17dc35": {
     "views": [
      {
       "cell_index": 31
      }
     ]
    },
    "baa57ce3205d44e0b6a5d664bc6cf503": {
     "views": [
      {
       "cell_index": 31
      }
     ]
    },
    "bbbc6abe4d494f25889961084996d98f": {
     "views": [
      {
       "cell_index": 31
      }
     ]
    },
    "c2cc7a58166240239c5042210f6978a8": {
     "views": [
      {
       "cell_index": 31
      }
     ]
    },
    "c4b02b81ba9443f5a8b043e0365360eb": {
     "views": [
      {
       "cell_index": 31
      }
     ]
    },
    "c76d1eebd7b142569024c25c011fedd1": {
     "views": [
      {
       "cell_index": 30
      }
     ]
    },
    "cfe7300114be4db5b4ef1b0f0d536f31": {
     "views": [
      {
       "cell_index": 30
      }
     ]
    },
    "d2f75fb20b7c40b3b8576671ef86a301": {
     "views": [
      {
       "cell_index": 30
      }
     ]
    },
    "d687db262e9345dea66687ef8f4f0cac": {
     "views": [
      {
       "cell_index": 31
      }
     ]
    },
    "d754af7f3eed4debbfac1cacf8059c42": {
     "views": [
      {
       "cell_index": 30
      }
     ]
    },
    "e0453dd2bcbb4f83b301085b3fb834fa": {
     "views": [
      {
       "cell_index": 30
      }
     ]
    },
    "e13ec31306ab4798949faef18ad86d00": {
     "views": [
      {
       "cell_index": 30
      }
     ]
    },
    "e843f36e364748fe862896d03027f471": {
     "views": [
      {
       "cell_index": 31
      }
     ]
    },
    "e976db1090dd4eceb9e8bcb721fbc58a": {
     "views": [
      {
       "cell_index": 30
      }
     ]
    },
    "ea60e667b46a486cac68416272b60bf0": {
     "views": [
      {
       "cell_index": 30
      }
     ]
    },
    "eaed57f7b1bf4b83aa1a26f5f9c7473e": {
     "views": [
      {
       "cell_index": 30
      }
     ]
    },
    "ef54c3bb651d4c3aaf160971758253b9": {
     "views": [
      {
       "cell_index": 31
      }
     ]
    },
    "f0d065a23afc44a49333e7cf22d7a8fc": {
     "views": [
      {
       "cell_index": 30
      }
     ]
    },
    "f1255388510e405495b788ab18e7b232": {
     "views": [
      {
       "cell_index": 30
      }
     ]
    },
    "f30844761f6e46c3bfe1912d68103056": {
     "views": [
      {
       "cell_index": 31
      }
     ]
    },
    "f4f65e68d52243fbad5aa3246ceb773d": {
     "views": [
      {
       "cell_index": 28
      }
     ]
    },
    "f5539bf9fde94ef0a484a153d23ccc19": {
     "views": [
      {
       "cell_index": 29
      }
     ]
    },
    "f6a1170ac3014b8d90c559e35d7fe8df": {
     "views": [
      {
       "cell_index": 30
      }
     ]
    },
    "f6b7083f2def423ba9912f2241ea52cc": {
     "views": [
      {
       "cell_index": 31
      }
     ]
    },
    "fd9e9a350e1f44bfa9465b22133a5b60": {
     "views": [
      {
       "cell_index": 30
      }
     ]
    }
   },
   "version": "1.2.0"
  }
 },
 "nbformat": 4,
 "nbformat_minor": 2
}
