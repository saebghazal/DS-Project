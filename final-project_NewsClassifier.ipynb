{
 "cells": [
  {
   "cell_type": "markdown",
   "metadata": {},
   "source": [
    "<h1 style=\"text-align: center;\">Natural Language Procesing: News Classifier</h1>\n",
    "\n",
    "<br>\n",
    "<div style=\"display:inline;\"> By:\n",
    "<ul style=\"display: inline;\">\n",
    "<li style=\"display: inline;\"><a href=\"https://github.com/am2en\" target=\"_blank\">Ameen Taha</a></li>\n",
    ", <li style=\"display: inline;\"><a href=\"https://github.com/saebghazal\" target=\"_blank\">Saeb Ghazal</a></li>\n",
    ", <li style=\"display: inline;\"><a href=\"https://github.com/ramiazmi\" target=\"_blank\">Rami Tailakh</a></li>\n",
    "</ul>\n",
    "</div>\n",
    "\n",
    "\n",
    "## Introduction:\n",
    "In the past few years, data has been increased dramatically. Majority of data is unstructured, and text data is viewed as unstructured as well; from the computer perspective. That is, text data is (a large volume) set words, and these words contain alphabetical letters, numbers and special characters, in addition, it can contain both single-byte and multi-byte characters. As a result, text analysis is one of the important applications for many businesses and organizations, nowadays. \n",
    "\n",
    "Text data is employed in many domains; social media, news stories, customer reviews, emails, documents and many more. However, this type of data can be difficult to analyze. This is because each text is witten in a specific language, thereby, analyzing a text could differ from one language to another. Moreover, A word in a specific language can give different meanings, and more challenging, languages adapt according to cultures and there could be some differences in using and writing words from one geographic area to another for the same language.\n",
    "\n",
    "Natural Language Processing (NLP) is the field of study that is concerned with the interactions between human language and computing machine. NLP, in other words, NLP is to enable a computerized program to understand human language to an accepted level. In this piece of work, we will apply NLP techniques on news stories aiming to classify the category of news articles.  \n",
    "\n",
    "\n",
    "\n",
    "# Goal:\n",
    "In this project, we will employ some machine learning models in order to build a classifier for news stories. The job of this classifier will specifically be to predict the category (health, technology, etc.) of a news story given only its titele.\n",
    "\n",
    "\n",
    "\n",
    "# Ethics\n",
    "Concerning data, our dataset has been downloaded from Kaggle website, and, this data is already found on UCI Machine Learning Repository <a href=\"#references\">[1]</a>. This data is already published on public links. In addition, it does not contain information that could harm anybody. However, we could not have the chance to either verify the existence of this data on the web, or whether it has information that could be harmful. Moreover, the data only reveals the headline of an article, but it does not show its story.\n",
    "\n",
    "Regarding the outcome of this project, the desired output will not be subjected to negatively impact any person (or organization) in anyways. Although the headline of each story is revealed, titles do not often contain harmful information. Furthermore, this piece of work will result in building a classifier that could help predict the category of an article from only its headline.\n",
    "\n",
    "We hereby confirm that the submitted work is our own work completed for the fulfillment of the Applied Data Science Training Course organized by the Center for Continuing Education at Birzeit University. We also confirm that we have not made any kind of manipulation of data in a way that could lead to \"better\" accuracy results of our desired Prediction Model. \n",
    "\n",
    "\n",
    "# Project Process Flow\n",
    "\n",
    "<img src=\"process_flow.png\" >\n"
   ]
  },
  {
   "cell_type": "markdown",
   "metadata": {},
   "source": [
    "# Imports\n",
    "Here, all required packages in this project will be imported."
   ]
  },
  {
   "cell_type": "code",
   "execution_count": 1,
   "metadata": {
    "collapsed": true
   },
   "outputs": [],
   "source": [
    "# This code is to disable warnings that may display this notebook a liitle bit \"ugly\"\n",
    "import warnings\n",
    "warnings.filterwarnings('ignore')"
   ]
  },
  {
   "cell_type": "code",
   "execution_count": 2,
   "metadata": {},
   "outputs": [
    {
     "name": "stderr",
     "output_type": "stream",
     "text": [
      "C:\\Users\\Saeb\\Anaconda3\\lib\\site-packages\\sklearn\\cross_validation.py:44: DeprecationWarning: This module was deprecated in version 0.18 in favor of the model_selection module into which all the refactored classes and functions are moved. Also note that the interface of the new CV iterators are different from that of this module. This module will be removed in 0.20.\n",
      "  \"This module will be removed in 0.20.\", DeprecationWarning)\n",
      "C:\\Users\\Saeb\\Anaconda3\\lib\\site-packages\\sklearn\\learning_curve.py:23: DeprecationWarning: This module was deprecated in version 0.18 in favor of the model_selection module into which all the functions are moved. This module will be removed in 0.20\n",
      "  DeprecationWarning)\n"
     ]
    }
   ],
   "source": [
    "import numpy as np\n",
    "import pandas as pd\n",
    "import seaborn as sns\n",
    "import matplotlib.pyplot as plt\n",
    "\n",
    "from sklearn.metrics import classification_report\n",
    "\n",
    "from sklearn.feature_extraction.text import CountVectorizer\n",
    "from sklearn.feature_extraction.text import TfidfTransformer, TfidfVectorizer\n",
    "from sklearn.model_selection import cross_val_score, KFold, train_test_split\n",
    "\n",
    "from sklearn.pipeline import Pipeline\n",
    "\n",
    "from nltk.corpus import stopwords\n",
    "\n",
    "import string\n",
    "\n",
    "from sklearn.learning_curve import learning_curve\n",
    "\n",
    "from ipywidgets import widgets\n",
    "from IPython.display import display\n",
    "from IPython.display import clear_output\n",
    "\n",
    "from collections import Counter\n",
    "\n",
    "import pickle\n",
    "\n",
    "import sys\n",
    "\n",
    "import random\n",
    "\n",
    "%matplotlib inline"
   ]
  },
  {
   "cell_type": "markdown",
   "metadata": {},
   "source": [
    "# Dataset:\n",
    "We will use the [News Data Set from Kaggle](https://www.kaggle.com/uciml/news-aggregator-dataset).\n",
    "This dataset contains headlines, publishers, URLs, and categories for 422,937 news articles. News categories included in this dataset include business; science and technology; entertainment; and health. \n",
    "\n",
    "### Get the Data\n",
    "\n",
    "The next code is to read the uci-news-aggregator.csv file and set it as a dataframe called news."
   ]
  },
  {
   "cell_type": "code",
   "execution_count": 3,
   "metadata": {
    "collapsed": true
   },
   "outputs": [],
   "source": [
    "news = pd.read_csv('uci-news-aggregator_small.csv')"
   ]
  },
  {
   "cell_type": "markdown",
   "metadata": {},
   "source": [
    "### Helper Functions\n",
    "These are the functions that will be used in this project."
   ]
  },
  {
   "cell_type": "code",
   "execution_count": 4,
   "metadata": {
    "collapsed": true
   },
   "outputs": [],
   "source": [
    "def count_words(str):\n",
    "    '''\n",
    "    This function is count the number of words in a given text.\n",
    "    '''\n",
    "    return len(str.split())\n",
    "\n",
    "\n",
    "#########################################################################\n",
    "def text_process(mess):\n",
    "    \"\"\"\n",
    "    This function takes in a string of text, then performs the following:\n",
    "    1. Remove all punctuation\n",
    "    2. Remove all stopwords\n",
    "    3. Returns a list of the cleaned text\n",
    "    \"\"\"\n",
    "    # Check characters to see if they are in punctuation\n",
    "    nopunc = [char for char in mess if char not in string.punctuation]\n",
    "\n",
    "    # Join the characters again to form the string.\n",
    "    nopunc = ''.join(nopunc)\n",
    "    \n",
    "    # Now just remove any stopwords\n",
    "    stop_words = set(stopwords.words('english'))\n",
    "    stop_words.update(['2014', 'us','new','may']) # remove it if you need punctuation \n",
    "\n",
    "    return ' '.join(word for word in nopunc.split() if word.lower() not in stop_words)\n",
    "\n",
    "\n",
    "#########################################################################\n",
    "def plot_learning_curve(estimator, title, X, y, ylim=None, cv=None,\n",
    "                        n_jobs=-1, train_sizes=np.linspace(.1, 1.0, 5)):\n",
    "    \"\"\"\n",
    "    This function is to generate a simple plot of the test and traning learning curve.\n",
    "    \"\"\"\n",
    "    plt.figure()\n",
    "    plt.title(title)\n",
    "    if ylim is not None:\n",
    "        plt.ylim(*ylim)\n",
    "    plt.xlabel(\"Training examples\")\n",
    "    plt.ylabel(\"Score\")\n",
    "    train_sizes, train_scores, test_scores = learning_curve(\n",
    "        estimator, X, y, cv=cv, n_jobs=n_jobs, train_sizes=train_sizes)\n",
    "    train_scores_mean = np.mean(train_scores, axis=1)\n",
    "    train_scores_std = np.std(train_scores, axis=1)\n",
    "    test_scores_mean = np.mean(test_scores, axis=1)\n",
    "    test_scores_std = np.std(test_scores, axis=1)\n",
    "    plt.grid()\n",
    "\n",
    "    plt.fill_between(train_sizes, train_scores_mean - train_scores_std,\n",
    "                     train_scores_mean + train_scores_std, alpha=0.1,\n",
    "                     color=\"r\")\n",
    "    plt.fill_between(train_sizes, test_scores_mean - test_scores_std,\n",
    "                     test_scores_mean + test_scores_std, alpha=0.1, color=\"g\")\n",
    "    plt.plot(train_sizes, train_scores_mean, 'o-', color=\"r\",\n",
    "             label=\"Training score\")\n",
    "    plt.plot(train_sizes, test_scores_mean, 'o-', color=\"g\",\n",
    "             label=\"Cross-validation score\")\n",
    "\n",
    "    plt.legend(loc=\"best\")\n",
    "    return plt\n",
    "\n",
    "\n",
    "#########################################################################\n",
    "def normalize_text(p_message):\n",
    "    '''\n",
    "    This function will remove all stop words from a given text.\n",
    "    '''\n",
    "    nopunc = [char for char in p_message if char not in string.punctuation]\n",
    "    nopunc = ''.join(nopunc)\n",
    "    return ''.join(word.lower() for word in nopunc.split() if word not in stopwords.words('english'))  \n",
    "\n",
    "\n",
    "#########################################################################\n",
    "def class_desc(p_class):\n",
    "    '''\n",
    "    This function is to return the description of CATEGORY.\n",
    "    '''\n",
    "    if p_class == 'b':\n",
    "        str = 'Business'\n",
    "    elif p_class == 't':\n",
    "        str = 'Science and Technology'\n",
    "    elif p_class == 'e':\n",
    "        str = 'Entertainment'\n",
    "    elif p_class == 'm':\n",
    "        str = 'Health'\n",
    "    else:\n",
    "        p_class = ''\n",
    "    \n",
    "    return str\n",
    "\n",
    "\n",
    "#########################################################################\n",
    "def read_from_pickle(pickle_fname):\n",
    "    with open(pickle_fname+'.pickle', 'rb') as handle:\n",
    "        return pickle.load(handle)"
   ]
  },
  {
   "cell_type": "markdown",
   "metadata": {},
   "source": [
    "# EDA\n",
    "In this section, we are going to view the dataset structure and do some exploration analysis on the data."
   ]
  },
  {
   "cell_type": "code",
   "execution_count": 5,
   "metadata": {},
   "outputs": [
    {
     "data": {
      "text/html": [
       "<div>\n",
       "<table border=\"1\" class=\"dataframe\">\n",
       "  <thead>\n",
       "    <tr style=\"text-align: right;\">\n",
       "      <th></th>\n",
       "      <th>Unnamed: 0</th>\n",
       "      <th>ID</th>\n",
       "      <th>TITLE</th>\n",
       "      <th>URL</th>\n",
       "      <th>PUBLISHER</th>\n",
       "      <th>CATEGORY</th>\n",
       "      <th>STORY</th>\n",
       "      <th>HOSTNAME</th>\n",
       "      <th>TIMESTAMP</th>\n",
       "    </tr>\n",
       "  </thead>\n",
       "  <tbody>\n",
       "    <tr>\n",
       "      <th>0</th>\n",
       "      <td>0</td>\n",
       "      <td>1</td>\n",
       "      <td>Fed official says weak data caused by weather,...</td>\n",
       "      <td>http://www.latimes.com/business/money/la-fi-mo...</td>\n",
       "      <td>Los Angeles Times</td>\n",
       "      <td>b</td>\n",
       "      <td>ddUyU0VZz0BRneMioxUPQVP6sIxvM</td>\n",
       "      <td>www.latimes.com</td>\n",
       "      <td>1394470370698</td>\n",
       "    </tr>\n",
       "    <tr>\n",
       "      <th>1</th>\n",
       "      <td>1</td>\n",
       "      <td>2</td>\n",
       "      <td>Fed's Charles Plosser sees high bar for change...</td>\n",
       "      <td>http://www.livemint.com/Politics/H2EvwJSK2VE6O...</td>\n",
       "      <td>Livemint</td>\n",
       "      <td>b</td>\n",
       "      <td>ddUyU0VZz0BRneMioxUPQVP6sIxvM</td>\n",
       "      <td>www.livemint.com</td>\n",
       "      <td>1394470371207</td>\n",
       "    </tr>\n",
       "  </tbody>\n",
       "</table>\n",
       "</div>"
      ],
      "text/plain": [
       "   Unnamed: 0  ID                                              TITLE  \\\n",
       "0           0   1  Fed official says weak data caused by weather,...   \n",
       "1           1   2  Fed's Charles Plosser sees high bar for change...   \n",
       "\n",
       "                                                 URL          PUBLISHER  \\\n",
       "0  http://www.latimes.com/business/money/la-fi-mo...  Los Angeles Times   \n",
       "1  http://www.livemint.com/Politics/H2EvwJSK2VE6O...           Livemint   \n",
       "\n",
       "  CATEGORY                          STORY          HOSTNAME      TIMESTAMP  \n",
       "0        b  ddUyU0VZz0BRneMioxUPQVP6sIxvM   www.latimes.com  1394470370698  \n",
       "1        b  ddUyU0VZz0BRneMioxUPQVP6sIxvM  www.livemint.com  1394470371207  "
      ]
     },
     "execution_count": 5,
     "metadata": {},
     "output_type": "execute_result"
    }
   ],
   "source": [
    "news.head(2)"
   ]
  },
  {
   "cell_type": "code",
   "execution_count": 6,
   "metadata": {},
   "outputs": [
    {
     "name": "stdout",
     "output_type": "stream",
     "text": [
      "<class 'pandas.core.frame.DataFrame'>\n",
      "RangeIndex: 40000 entries, 0 to 39999\n",
      "Data columns (total 9 columns):\n",
      "Unnamed: 0    40000 non-null int64\n",
      "ID            40000 non-null int64\n",
      "TITLE         40000 non-null object\n",
      "URL           40000 non-null object\n",
      "PUBLISHER     39998 non-null object\n",
      "CATEGORY      40000 non-null object\n",
      "STORY         40000 non-null object\n",
      "HOSTNAME      40000 non-null object\n",
      "TIMESTAMP     40000 non-null int64\n",
      "dtypes: int64(3), object(6)\n",
      "memory usage: 2.7+ MB\n"
     ]
    }
   ],
   "source": [
    "news.info()"
   ]
  },
  {
   "cell_type": "code",
   "execution_count": 7,
   "metadata": {},
   "outputs": [
    {
     "data": {
      "text/html": [
       "<div>\n",
       "<table border=\"1\" class=\"dataframe\">\n",
       "  <thead>\n",
       "    <tr style=\"text-align: right;\">\n",
       "      <th></th>\n",
       "      <th>Unnamed: 0</th>\n",
       "      <th>ID</th>\n",
       "      <th>TIMESTAMP</th>\n",
       "    </tr>\n",
       "  </thead>\n",
       "  <tbody>\n",
       "    <tr>\n",
       "      <th>count</th>\n",
       "      <td>40000.000000</td>\n",
       "      <td>40000.000000</td>\n",
       "      <td>4.000000e+04</td>\n",
       "    </tr>\n",
       "    <tr>\n",
       "      <th>mean</th>\n",
       "      <td>24077.724675</td>\n",
       "      <td>24082.332175</td>\n",
       "      <td>1.395207e+12</td>\n",
       "    </tr>\n",
       "    <tr>\n",
       "      <th>std</th>\n",
       "      <td>19431.702872</td>\n",
       "      <td>19442.001602</td>\n",
       "      <td>5.220245e+08</td>\n",
       "    </tr>\n",
       "    <tr>\n",
       "      <th>min</th>\n",
       "      <td>0.000000</td>\n",
       "      <td>1.000000</td>\n",
       "      <td>1.394470e+12</td>\n",
       "    </tr>\n",
       "    <tr>\n",
       "      <th>25%</th>\n",
       "      <td>9999.750000</td>\n",
       "      <td>10000.750000</td>\n",
       "      <td>1.394715e+12</td>\n",
       "    </tr>\n",
       "    <tr>\n",
       "      <th>50%</th>\n",
       "      <td>19999.500000</td>\n",
       "      <td>20000.500000</td>\n",
       "      <td>1.395168e+12</td>\n",
       "    </tr>\n",
       "    <tr>\n",
       "      <th>75%</th>\n",
       "      <td>30588.250000</td>\n",
       "      <td>30589.250000</td>\n",
       "      <td>1.395510e+12</td>\n",
       "    </tr>\n",
       "    <tr>\n",
       "      <th>max</th>\n",
       "      <td>90136.000000</td>\n",
       "      <td>90212.000000</td>\n",
       "      <td>1.396940e+12</td>\n",
       "    </tr>\n",
       "  </tbody>\n",
       "</table>\n",
       "</div>"
      ],
      "text/plain": [
       "         Unnamed: 0            ID     TIMESTAMP\n",
       "count  40000.000000  40000.000000  4.000000e+04\n",
       "mean   24077.724675  24082.332175  1.395207e+12\n",
       "std    19431.702872  19442.001602  5.220245e+08\n",
       "min        0.000000      1.000000  1.394470e+12\n",
       "25%     9999.750000  10000.750000  1.394715e+12\n",
       "50%    19999.500000  20000.500000  1.395168e+12\n",
       "75%    30588.250000  30589.250000  1.395510e+12\n",
       "max    90136.000000  90212.000000  1.396940e+12"
      ]
     },
     "execution_count": 7,
     "metadata": {},
     "output_type": "execute_result"
    }
   ],
   "source": [
    "news.describe()"
   ]
  },
  {
   "cell_type": "markdown",
   "metadata": {},
   "source": [
    "**Data Preprocessing**\n",
    "\n",
    "We are going to create a new column called <b>TITLE_LENGTH</b> which represents the number of words in the <b>TITLE</b> column which represents an article headline. This will, then, help do some EDA analytics."
   ]
  },
  {
   "cell_type": "code",
   "execution_count": 8,
   "metadata": {
    "collapsed": true
   },
   "outputs": [],
   "source": [
    "news['TITLE_LENGTH'] = news['TITLE'].apply(count_words)"
   ]
  },
  {
   "cell_type": "markdown",
   "metadata": {},
   "source": [
    "**Data Exploration**"
   ]
  },
  {
   "cell_type": "markdown",
   "metadata": {},
   "source": [
    "The following plot is to show the number of articles per each <b>CATEGORY</b>."
   ]
  },
  {
   "cell_type": "code",
   "execution_count": 9,
   "metadata": {},
   "outputs": [
    {
     "data": {
      "text/plain": [
       "<matplotlib.axes._subplots.AxesSubplot at 0x2c66a83acc0>"
      ]
     },
     "execution_count": 9,
     "metadata": {},
     "output_type": "execute_result"
    },
    {
     "data": {
      "image/png": "[encoded data removed]",
      "text/plain": [
       "<matplotlib.figure.Figure at 0x2c662e9fcf8>"
      ]
     },
     "metadata": {},
     "output_type": "display_data"
    }
   ],
   "source": [
    "sns.countplot(x=\"CATEGORY\", data=news)"
   ]
  },
  {
   "cell_type": "code",
   "execution_count": 10,
   "metadata": {},
   "outputs": [
    {
     "data": {
      "text/plain": [
       "<seaborn.axisgrid.FacetGrid at 0x2c667d64ef0>"
      ]
     },
     "execution_count": 10,
     "metadata": {},
     "output_type": "execute_result"
    },
    {
     "data": {
      "image/png": "[encoded data removed]",
      "text/plain": [
       "<matplotlib.figure.Figure at 0x2c66943a978>"
      ]
     },
     "metadata": {},
     "output_type": "display_data"
    }
   ],
   "source": [
    "g = sns.FacetGrid(news, col=\"CATEGORY\", sharey=True)  \n",
    "g.map(plt.hist, \"TITLE_LENGTH\", bins=np.linspace(1, 20, 10))"
   ]
  },
  {
   "cell_type": "markdown",
   "metadata": {},
   "source": [
    "The following is to plot a boxplot to show the distribution of word counts (using <b>TITLE_LENGTH</b> column) per each <b>CATEGORY<b>."
   ]
  },
  {
   "cell_type": "code",
   "execution_count": 11,
   "metadata": {},
   "outputs": [
    {
     "data": {
      "text/plain": [
       "(0, 30)"
      ]
     },
     "execution_count": 11,
     "metadata": {},
     "output_type": "execute_result"
    },
    {
     "data": {
      "image/png": "[encoded data removed]",
      "text/plain": [
       "<matplotlib.figure.Figure at 0x2c6695521d0>"
      ]
     },
     "metadata": {},
     "output_type": "display_data"
    }
   ],
   "source": [
    "_= sns.boxplot(x='CATEGORY', y='TITLE_LENGTH', data = news)\n",
    "plt.axhline(y=news.TITLE_LENGTH.mean(), color='r', ls='--')\n",
    "_.set_ylim(0,30)"
   ]
  },
  {
   "cell_type": "markdown",
   "metadata": {},
   "source": [
    "The following plot is to display the histogram according to the <b>TITLE</b> words count per each <b>CATEGORY</b>."
   ]
  },
  {
   "cell_type": "code",
   "execution_count": 12,
   "metadata": {},
   "outputs": [
    {
     "data": {
      "text/plain": [
       "array([[<matplotlib.axes._subplots.AxesSubplot object at 0x000002C669858048>,\n",
       "        <matplotlib.axes._subplots.AxesSubplot object at 0x000002C6698BE080>],\n",
       "       [<matplotlib.axes._subplots.AxesSubplot object at 0x000002C6699095C0>,\n",
       "        <matplotlib.axes._subplots.AxesSubplot object at 0x000002C6699496A0>]], dtype=object)"
      ]
     },
     "execution_count": 12,
     "metadata": {},
     "output_type": "execute_result"
    },
    {
     "data": {
      "image/png": "[encoded data removed]",
      "text/plain": [
       "<matplotlib.figure.Figure at 0x2c669699278>"
      ]
     },
     "metadata": {},
     "output_type": "display_data"
    }
   ],
   "source": [
    "news.hist(column='TITLE_LENGTH', by='CATEGORY', bins=range(0, 20,2),figsize=(14,11), sharey=True)"
   ]
  },
  {
   "cell_type": "markdown",
   "metadata": {},
   "source": [
    "**Words Representation**\n",
    "\n",
    "The following code is show the most representative words per each <b>CATEGORY</b>. While the following code will plot the most representative words per each <b>CATEGORY</b>."
   ]
  },
  {
   "cell_type": "code",
   "execution_count": 13,
   "metadata": {},
   "outputs": [
    {
     "name": "stderr",
     "output_type": "stream",
     "text": [
      "Widget Javascript not detected.  It may not be installed or enabled properly.\n"
     ]
    },
    {
     "data": {
      "application/vnd.jupyter.widget-view+json": {
       "model_id": "de7825118aaa44babe82beb24153ad23"
      }
     },
     "metadata": {},
     "output_type": "display_data"
    },
    {
     "name": "stderr",
     "output_type": "stream",
     "text": [
      "Widget Javascript not detected.  It may not be installed or enabled properly.\n"
     ]
    },
    {
     "data": {
      "application/vnd.jupyter.widget-view+json": {
       "model_id": "fc5abf185d4145d9bdc5ca26fbe70049"
      }
     },
     "metadata": {},
     "output_type": "display_data"
    },
    {
     "name": "stderr",
     "output_type": "stream",
     "text": [
      "Widget Javascript not detected.  It may not be installed or enabled properly.\n"
     ]
    },
    {
     "data": {
      "application/vnd.jupyter.widget-view+json": {
       "model_id": "711949a916514a829af285f2cdc10dfb"
      }
     },
     "metadata": {},
     "output_type": "display_data"
    }
   ],
   "source": [
    "caption_0 = widgets.Label('Enter a number:')\n",
    "text_0 = widgets.IntText(value=10)\n",
    "button_0 = widgets.Button(description=\"Plot\")\n",
    "display(caption_0,text_0,button_0)\n",
    "\n",
    "def histogram_label():\n",
    "    n = text_0.value # Top n words\n",
    "    corpus_size = 0\n",
    "    i=1\n",
    "    df = news[['TITLE','CATEGORY']]\n",
    "    df['TITLE'] = news['TITLE'].apply(text_process).str.lower()\n",
    "    categories = news.CATEGORY.unique()\n",
    "    for category in categories:\n",
    "            df_title=df.query('CATEGORY ==  @category')\n",
    "            result =\" \".join(df_title['TITLE'].values.tolist()).split(\" \")\n",
    "            r = pd.DataFrame(result, columns=['WORDS'])\n",
    "            corpus_size = corpus_size + len(r['WORDS'].unique())\n",
    "            Counter_=Counter(result).most_common(n)\n",
    "            labels = [item[0] for item in Counter_]\n",
    "            number = [item[1] for item in Counter_]\n",
    "            nbars = len(Counter_)\n",
    "            plt.subplot(2,2,i)\n",
    "            plt.xticks(rotation=90,fontsize=15)\n",
    "            plt.yticks(fontsize=15)\n",
    "            plt.title(class_desc(category), fontsize=18)\n",
    "            plt.bar(np.arange(nbars), number, tick_label=labels)\n",
    "            i=i+1\n",
    "    return corpus_size\n",
    "\n",
    "def handle_submit(sender):\n",
    "    t = (\"Plot is being performed! Please wait ...\")\n",
    "    sys.stdout.write('\\r'+t)\n",
    "    plt.figure(figsize=(15,10))\n",
    "    s = histogram_label()\n",
    "    plt.tight_layout()\n",
    "    sys.stdout.write('\\r'+'Corpus Size: ' + str(s))\n",
    "    sys.stdout.flush()\n",
    "    \n",
    "button_0.on_click(handle_submit)"
   ]
  },
  {
   "cell_type": "markdown",
   "metadata": {},
   "source": [
    "# News Classification"
   ]
  },
  {
   "cell_type": "markdown",
   "metadata": {},
   "source": [
    "The EDA section, mentioned above, has given some information about factors that could help perform classification of news stories to some level. In other words, the EDA has given some important information, but this could not be viewed enough to give more confident results of classifying news articles. For instance, the word <b>Google</b> is one of the most frequent words in the t-category (Technology and Science) articles, but this word could be used in business articles, and therefore, it cannot be generalized that every story that has the <b>Google</b> it leads to classify it as t-category.  In this section we are going to employ machine learning to help achieve the goal of this project.\n",
    "\n",
    "According to EDA, it can be seen that the most significant feature is: <b>TITLE</b>. In the next code, we are going to create two objects X and y. X will be the 'TITLE' column of 'news' dataset. Moreover, as our case is supervised, y will be the class which is the <b>CATEGORY</b> column of our exploited dataset."
   ]
  },
  {
   "cell_type": "code",
   "execution_count": 14,
   "metadata": {
    "collapsed": true
   },
   "outputs": [],
   "source": [
    "X = news.TITLE\n",
    "y = news.CATEGORY"
   ]
  },
  {
   "cell_type": "markdown",
   "metadata": {},
   "source": [
    "## Train Test Split\n",
    "\n",
    "Following the best practices, we are going to split our data into training and testing data."
   ]
  },
  {
   "cell_type": "code",
   "execution_count": 15,
   "metadata": {},
   "outputs": [
    {
     "name": "stdout",
     "output_type": "stream",
     "text": [
      "(28000,) (12000,) (28000,) (12000,)\n"
     ]
    }
   ],
   "source": [
    "from sklearn.cross_validation import train_test_split\n",
    "X_train, X_test, y_train, y_test = train_test_split(X, y, test_size=0.3, random_state=101)\n",
    "print(X_train.shape, X_test.shape, y_train.shape, y_test.shape)"
   ]
  },
  {
   "cell_type": "markdown",
   "metadata": {},
   "source": [
    "## Training Model\n",
    "\n",
    "In this piece of work, we will implement different models and show the classification output according to each one. Then, the final result of prediction will be based on the result of all predictions as it will be presnted in the follwoing sections."
   ]
  },
  {
   "cell_type": "markdown",
   "metadata": {},
   "source": [
    "In order to make the procees of processing; vectorizer => transformer => classifier, easier, we will create a pipeline with the following steps: \n",
    "<ol>\n",
    "<li>CountVectorizer()</li><li>TfidfTransformer()</li><li>Classifer; Suitable Supervised Model</li>"
   ]
  },
  {
   "cell_type": "markdown",
   "metadata": {},
   "source": [
    "#### Training using Multinomial Naive Bayes"
   ]
  },
  {
   "cell_type": "code",
   "execution_count": 16,
   "metadata": {},
   "outputs": [
    {
     "name": "stdout",
     "output_type": "stream",
     "text": [
      "             precision    recall  f1-score   support\n",
      "\n",
      "          b       0.94      0.93      0.93      3058\n",
      "          e       0.97      0.97      0.97      3017\n",
      "          m       0.96      0.97      0.96      2923\n",
      "          t       0.93      0.94      0.93      3002\n",
      "\n",
      "avg / total       0.95      0.95      0.95     12000\n",
      "\n"
     ]
    }
   ],
   "source": [
    "from sklearn.naive_bayes import MultinomialNB\n",
    "\n",
    "# Initializing Pipline\n",
    "pipelineNB = Pipeline([\n",
    "    ('bow', CountVectorizer()),  # strings to token integer counts   ====  analyzer=normalize_text\n",
    "    ('tfidf', TfidfTransformer()),  # integer counts to weighted TF-IDF scores\n",
    "    ('classifier', MultinomialNB()),  # train on TF-IDF vectors\n",
    "])\n",
    "\n",
    "# Training the model\n",
    "pipelineNB.fit(X_train, y_train)\n",
    "\n",
    "# Saving training results using Pickle\n",
    "with open('pipelineNB.pickle', 'wb') as handle:\n",
    "    pickle.dump(pipelineNB, handle, protocol=pickle.HIGHEST_PROTOCOL)\n",
    "\n",
    "# Predictions\n",
    "predictionsNB = pipelineNB.predict(X_test)\n",
    "\n",
    "# Model Evaluation\n",
    "print(classification_report(predictionsNB, y_test))"
   ]
  },
  {
   "cell_type": "code",
   "execution_count": 17,
   "metadata": {},
   "outputs": [
    {
     "data": {
      "text/plain": [
       "'e'"
      ]
     },
     "execution_count": 17,
     "metadata": {},
     "output_type": "execute_result"
    }
   ],
   "source": [
    "# This is just for testing purposes :)\n",
    "with open('pipelineNB.pickle', 'rb') as handle:\n",
    "    NB = pickle.load(handle)\n",
    "NB.predict([\"See Mark Hamill prank 'Star Wars' superfans\"])[0]"
   ]
  },
  {
   "cell_type": "markdown",
   "metadata": {},
   "source": [
    "##### Cross Validation"
   ]
  },
  {
   "cell_type": "code",
   "execution_count": 18,
   "metadata": {},
   "outputs": [
    {
     "name": "stdout",
     "output_type": "stream",
     "text": [
      "Wall time: 2.29 s\n",
      "Cross-validation scores: [ 0.95322264  0.94840207  0.95571429  0.94410714  0.95105395]\n",
      "Average cross-validation score: 0.95 +/- 0.00\n"
     ]
    }
   ],
   "source": [
    "%time scoresNB = cross_val_score(pipelineNB, X_train, y_train, cv = 5)\n",
    "print(\"Cross-validation scores: {}\".format(scoresNB))\n",
    "print(\"Average cross-validation score: {:.2f} +/- {:.2f}\".format(scoresNB.mean(), scoresNB.std()))\n",
    "scoresNB = scoresNB.mean()"
   ]
  },
  {
   "cell_type": "code",
   "execution_count": 19,
   "metadata": {},
   "outputs": [
    {
     "name": "stdout",
     "output_type": "stream",
     "text": [
      "Wall time: 9.4 s\n"
     ]
    },
    {
     "data": {
      "text/plain": [
       "<module 'matplotlib.pyplot' from 'C:\\\\Users\\\\Saeb\\\\Anaconda3\\\\lib\\\\site-packages\\\\matplotlib\\\\pyplot.py'>"
      ]
     },
     "execution_count": 19,
     "metadata": {},
     "output_type": "execute_result"
    },
    {
     "data": {
      "image/png": "[encoded data removed]",
      "text/plain": [
       "<matplotlib.figure.Figure at 0x2c6696440b8>"
      ]
     },
     "metadata": {},
     "output_type": "display_data"
    }
   ],
   "source": [
    "%time plot_learning_curve(pipelineNB, \"accuracy vs. training set size\", X_train, y_train, cv=5)"
   ]
  },
  {
   "cell_type": "markdown",
   "metadata": {},
   "source": [
    "#### Training using Logistic Regression"
   ]
  },
  {
   "cell_type": "code",
   "execution_count": 20,
   "metadata": {},
   "outputs": [
    {
     "name": "stdout",
     "output_type": "stream",
     "text": [
      "Wall time: 1.31 s\n",
      "             precision    recall  f1-score   support\n",
      "\n",
      "          b       0.95      0.92      0.94      3111\n",
      "          e       0.97      0.98      0.98      3000\n",
      "          m       0.96      0.97      0.97      2932\n",
      "          t       0.93      0.96      0.94      2957\n",
      "\n",
      "avg / total       0.96      0.96      0.96     12000\n",
      "\n"
     ]
    }
   ],
   "source": [
    "from sklearn.linear_model import LogisticRegression\n",
    "\n",
    "pipelineLOG = Pipeline([\n",
    "    ('bow', CountVectorizer()),  # strings to token integer counts   === analyzer=normalize_text\n",
    "    ('tfidf', TfidfTransformer()),  # integer counts to weighted TF-IDF scores\n",
    "    ('classifier', LogisticRegression()),  # train on TF-IDF vectors\n",
    "])\n",
    "%time pipelineLOG.fit(X_train, y_train)\n",
    "\n",
    "# Saving training results using Pickle\n",
    "with open('pipelineLOG.pickle', 'wb') as handle:\n",
    "    pickle.dump(pipelineLOG, handle, protocol=pickle.HIGHEST_PROTOCOL)\n",
    "\n",
    "predictionsLOG = pipelineLOG.predict(X_test)\n",
    "\n",
    "print(classification_report(predictionsLOG, y_test))"
   ]
  },
  {
   "cell_type": "code",
   "execution_count": 21,
   "metadata": {},
   "outputs": [
    {
     "data": {
      "text/plain": [
       "'e'"
      ]
     },
     "execution_count": 21,
     "metadata": {},
     "output_type": "execute_result"
    }
   ],
   "source": [
    "# This is just for testing purposes :)\n",
    "with open('pipelineLOG.pickle', 'rb') as handle:\n",
    "    LOG = pickle.load(handle)\n",
    "LOG.predict([\"See Mark Hamill prank 'Star Wars' superfans\"])[0]"
   ]
  },
  {
   "cell_type": "markdown",
   "metadata": {},
   "source": [
    "##### Cross Validation"
   ]
  },
  {
   "cell_type": "code",
   "execution_count": 22,
   "metadata": {},
   "outputs": [
    {
     "name": "stdout",
     "output_type": "stream",
     "text": [
      "Wall time: 5.16 s\n",
      "Cross-validation scores: [ 0.95661489  0.9530441   0.95625     0.94946429  0.9528403 ]\n",
      "Average cross-validation score: 0.95 +/- 0.00\n"
     ]
    }
   ],
   "source": [
    "%time scoresLOG = cross_val_score(pipelineLOG, X_train, y_train, cv = 5)\n",
    "print(\"Cross-validation scores: {}\".format(scoresLOG))\n",
    "print(\"Average cross-validation score: {:.2f} +/- {:.2f}\".format(scoresLOG.mean(), scoresLOG.std()))\n",
    "scoresLOG = scoresLOG.mean()"
   ]
  },
  {
   "cell_type": "code",
   "execution_count": 23,
   "metadata": {},
   "outputs": [
    {
     "name": "stdout",
     "output_type": "stream",
     "text": [
      "Wall time: 12.4 s\n"
     ]
    },
    {
     "data": {
      "text/plain": [
       "<module 'matplotlib.pyplot' from 'C:\\\\Users\\\\Saeb\\\\Anaconda3\\\\lib\\\\site-packages\\\\matplotlib\\\\pyplot.py'>"
      ]
     },
     "execution_count": 23,
     "metadata": {},
     "output_type": "execute_result"
    },
    {
     "data": {
      "image/png": "[encoded data removed]",
      "text/plain": [
       "<matplotlib.figure.Figure at 0x2c66a30a550>"
      ]
     },
     "metadata": {},
     "output_type": "display_data"
    }
   ],
   "source": [
    "%time plot_learning_curve(pipelineLOG, \"accuracy vs. training set size\", X_train, y_train, cv=5)"
   ]
  },
  {
   "cell_type": "markdown",
   "metadata": {},
   "source": [
    "#### Training using Decision Tree Classifier"
   ]
  },
  {
   "cell_type": "code",
   "execution_count": 24,
   "metadata": {},
   "outputs": [
    {
     "name": "stdout",
     "output_type": "stream",
     "text": [
      "Wall time: 722 ms\n",
      "             precision    recall  f1-score   support\n",
      "\n",
      "          b       0.92      0.33      0.48      8485\n",
      "          e       0.31      0.54      0.39      1725\n",
      "          m       0.33      0.99      0.49       964\n",
      "          t       0.27      0.99      0.42       826\n",
      "\n",
      "avg / total       0.74      0.46      0.47     12000\n",
      "\n"
     ]
    }
   ],
   "source": [
    "from sklearn.tree import DecisionTreeClassifier\n",
    "\n",
    "pipelineDT = Pipeline([\n",
    "    ('bow', CountVectorizer()),  # strings to token integer counts   === analyzer=normalize_text\n",
    "    ('tfidf', TfidfTransformer()),  # integer counts to weighted TF-IDF scores\n",
    "    ('classifier', DecisionTreeClassifier(max_depth=10,random_state=0)),  # train on TF-IDF vectors\n",
    "])\n",
    "\n",
    "%time pipelineDT.fit(X_train, y_train)\n",
    "\n",
    "# Saving training results using Pickle\n",
    "with open('pipelineDT.pickle', 'wb') as handle:\n",
    "    pickle.dump(pipelineDT, handle, protocol=pickle.HIGHEST_PROTOCOL)\n",
    "\n",
    "predictionsDT = pipelineDT.predict(X_test)\n",
    "\n",
    "print(classification_report(predictionsDT, y_test))"
   ]
  },
  {
   "cell_type": "markdown",
   "metadata": {},
   "source": [
    "##### Cross Validation"
   ]
  },
  {
   "cell_type": "code",
   "execution_count": 25,
   "metadata": {},
   "outputs": [
    {
     "name": "stdout",
     "output_type": "stream",
     "text": [
      "Wall time: 3.38 s\n",
      "Cross-validation scores: [ 0.46206035  0.45491876  0.45035714  0.45732143  0.45301894]\n",
      "Average cross-validation score: 0.46 +/- 0.00\n"
     ]
    }
   ],
   "source": [
    "%time scoresDT = cross_val_score(pipelineDT, X_train, y_train, cv = 5)\n",
    "print(\"Cross-validation scores: {}\".format(scoresDT))\n",
    "print(\"Average cross-validation score: {:.2f} +/- {:.2f}\".format(scoresDT.mean(), scoresDT.std()))\n",
    "scoresDT = scoresDT.mean()"
   ]
  },
  {
   "cell_type": "code",
   "execution_count": 26,
   "metadata": {},
   "outputs": [
    {
     "name": "stdout",
     "output_type": "stream",
     "text": [
      "Wall time: 10.9 s\n"
     ]
    },
    {
     "data": {
      "text/plain": [
       "<module 'matplotlib.pyplot' from 'C:\\\\Users\\\\Saeb\\\\Anaconda3\\\\lib\\\\site-packages\\\\matplotlib\\\\pyplot.py'>"
      ]
     },
     "execution_count": 26,
     "metadata": {},
     "output_type": "execute_result"
    },
    {
     "data": {
      "image/png": "[encoded data removed]",
      "text/plain": [
       "<matplotlib.figure.Figure at 0x2c66a4c4588>"
      ]
     },
     "metadata": {},
     "output_type": "display_data"
    }
   ],
   "source": [
    "%time plot_learning_curve(pipelineDT, \"accuracy vs. training set size\", X_train, y_train, cv=5)"
   ]
  },
  {
   "cell_type": "markdown",
   "metadata": {},
   "source": [
    "#### Training using Random Forest Classifier"
   ]
  },
  {
   "cell_type": "code",
   "execution_count": 27,
   "metadata": {},
   "outputs": [
    {
     "name": "stdout",
     "output_type": "stream",
     "text": [
      "Wall time: 9 s\n",
      "             precision    recall  f1-score   support\n",
      "\n",
      "          b       0.93      0.90      0.91      3140\n",
      "          e       0.96      0.96      0.96      2992\n",
      "          m       0.94      0.93      0.94      2981\n",
      "          t       0.90      0.95      0.92      2887\n",
      "\n",
      "avg / total       0.93      0.93      0.93     12000\n",
      "\n"
     ]
    }
   ],
   "source": [
    "from sklearn.ensemble import RandomForestClassifier\n",
    "\n",
    "pipelineRF = Pipeline([\n",
    "    ('bow', CountVectorizer()),  # strings to token integer counts   === analyzer=normalize_text\n",
    "    ('tfidf', TfidfTransformer()),  # integer counts to weighted TF-IDF scores\n",
    "    ('classifier', RandomForestClassifier(n_estimators=20)),  # train on TF-IDF vectors\n",
    "])\n",
    "\n",
    "%time pipelineRF.fit(X_train, y_train)\n",
    "\n",
    "# Saving training results using Pickle\n",
    "with open('pipelineRF.pickle', 'wb') as handle:\n",
    "    pickle.dump(pipelineRF, handle, protocol=pickle.HIGHEST_PROTOCOL)\n",
    "    \n",
    "predictionsRF = pipelineRF.predict(X_test)\n",
    "\n",
    "print(classification_report(predictionsRF, y_test))"
   ]
  },
  {
   "cell_type": "markdown",
   "metadata": {},
   "source": [
    "##### Cross Validation"
   ]
  },
  {
   "cell_type": "code",
   "execution_count": 28,
   "metadata": {},
   "outputs": [
    {
     "name": "stdout",
     "output_type": "stream",
     "text": [
      "Wall time: 32.9 s\n",
      "Cross-validation scores: [ 0.9376897   0.92858418  0.92875     0.92696429  0.92997499]\n",
      "Average cross-validation score: 0.93 +/- 0.00\n"
     ]
    }
   ],
   "source": [
    "%time scoresRF = cross_val_score(pipelineRF, X_train, y_train, cv = 5)\n",
    "print(\"Cross-validation scores: {}\".format(scoresRF))\n",
    "print(\"Average cross-validation score: {:.2f} +/- {:.2f}\".format(scoresRF.mean(), scoresRF.std()))\n",
    "scoresRF = scoresRF.mean()"
   ]
  },
  {
   "cell_type": "code",
   "execution_count": 29,
   "metadata": {},
   "outputs": [],
   "source": [
    "# %time plot_learning_curve(pipelineRF, \"accuracy vs. training set size\", X_train, y_train, cv=5)"
   ]
  },
  {
   "cell_type": "markdown",
   "metadata": {},
   "source": [
    "#### Training using K-Neighbors Classifier\n",
    "For memory limitation errors, there was no chance to use KNN classifier."
   ]
  },
  {
   "cell_type": "code",
   "execution_count": 30,
   "metadata": {
    "collapsed": true
   },
   "outputs": [],
   "source": [
    "# from sklearn.neighbors import KNeighborsClassifier\n",
    "\n",
    "# pipelineKNN = Pipeline([\n",
    "#     ('bow', CountVectorizer()),  # strings to token integer counts   === analyzer=normalize_text\n",
    "#     ('tfidf', TfidfTransformer()),  # integer counts to weighted TF-IDF scores\n",
    "#     ('classifier', KNeighborsClassifier()),  # train on TF-IDF vectors\n",
    "# ])\n",
    "\n",
    "# %time pipelineKNN.fit(X_train, y_train)\n",
    "\n",
    "# # Saving training results using Pickle\n",
    "# with open('pipelineKNN.pickle', 'wb') as handle:\n",
    "#     pickle.dump(pipelineKNN, handle, protocol=pickle.HIGHEST_PROTOCOL)\n",
    "    \n",
    "# predictionsKNN = pipelineKNN.predict(X_test)\n",
    "\n",
    "# print(classification_report(predictionsKNN, y_test))"
   ]
  },
  {
   "cell_type": "markdown",
   "metadata": {},
   "source": [
    "##### Cross Validation"
   ]
  },
  {
   "cell_type": "code",
   "execution_count": 31,
   "metadata": {
    "collapsed": true
   },
   "outputs": [],
   "source": [
    "# %time scoresKNN = cross_val_score(pipelineKNN, X_train, y_train, cv = 5)\n",
    "# print(\"Cross-validation scores: {}\".format(scoresKNN))\n",
    "# print(\"Average cross-validation score: {:.2f} +/- {:.2f}\".format(scoresKNN.mean(), scoresKNN.std()))\n",
    "# scoresKNN = scoresKNN.mean()"
   ]
  },
  {
   "cell_type": "code",
   "execution_count": 32,
   "metadata": {
    "collapsed": true
   },
   "outputs": [],
   "source": [
    "# %time plot_learning_curve(pipelineKNN, \"accuracy vs. training set size\", X_train, y_train, cv=5)"
   ]
  },
  {
   "cell_type": "markdown",
   "metadata": {},
   "source": [
    "#### Training using SVM"
   ]
  },
  {
   "cell_type": "code",
   "execution_count": 33,
   "metadata": {},
   "outputs": [
    {
     "name": "stdout",
     "output_type": "stream",
     "text": [
      "Wall time: 1.07 s\n",
      "             precision    recall  f1-score   support\n",
      "\n",
      "          b       0.95      0.94      0.94      3072\n",
      "          e       0.98      0.99      0.98      2985\n",
      "          m       0.97      0.97      0.97      2936\n",
      "          t       0.95      0.96      0.95      3007\n",
      "\n",
      "avg / total       0.96      0.96      0.96     12000\n",
      "\n"
     ]
    }
   ],
   "source": [
    "# from sklearn.svm import SVC\n",
    "from sklearn.svm import LinearSVC\n",
    "\n",
    "pipelineSV = Pipeline([\n",
    "    ('bow', CountVectorizer()),  # strings to token integer counts   === analyzer=normalize_text\n",
    "    ('tfidf', TfidfTransformer()),  # integer counts to weighted TF-IDF scores\n",
    "    ('classifier', LinearSVC()),  # train on TF-IDF vectors\n",
    "])\n",
    "\n",
    "%time pipelineSV.fit(X_train, y_train)\n",
    "\n",
    "# Saving training results using Pickle\n",
    "with open('pipelineSV.pickle', 'wb') as handle:\n",
    "    pickle.dump(pipelineSV, handle, protocol=pickle.HIGHEST_PROTOCOL)\n",
    "\n",
    "predictionsSV = pipelineSV.predict(X_test)\n",
    "\n",
    "print(classification_report(predictionsSV, y_test))"
   ]
  },
  {
   "cell_type": "code",
   "execution_count": 34,
   "metadata": {},
   "outputs": [
    {
     "data": {
      "text/plain": [
       "'e'"
      ]
     },
     "execution_count": 34,
     "metadata": {},
     "output_type": "execute_result"
    }
   ],
   "source": [
    "# This is just for testing purposes :)\n",
    "with open('pipelineSV.pickle', 'rb') as handle:\n",
    "    SV = pickle.load(handle)\n",
    "SV.predict([\"See Mark Hamill prank 'Star Wars' superfans\"])[0]"
   ]
  },
  {
   "cell_type": "markdown",
   "metadata": {},
   "source": [
    "##### Cross Validation"
   ]
  },
  {
   "cell_type": "code",
   "execution_count": 35,
   "metadata": {},
   "outputs": [
    {
     "name": "stdout",
     "output_type": "stream",
     "text": [
      "Wall time: 5.17 s\n",
      "Cross-validation scores: [ 0.96179254  0.96286377  0.96428571  0.96017857  0.96463023]\n",
      "Average cross-validation score: 0.96 +/- 0.00\n"
     ]
    }
   ],
   "source": [
    "%time scoresSV = cross_val_score(pipelineSV, X_train, y_train, cv = 5)\n",
    "print(\"Cross-validation scores: {}\".format(scoresSV))\n",
    "print(\"Average cross-validation score: {:.2f} +/- {:.2f}\".format(scoresSV.mean(), scoresSV.std()))\n",
    "scoresSV = scoresSV.mean()"
   ]
  },
  {
   "cell_type": "code",
   "execution_count": 36,
   "metadata": {},
   "outputs": [
    {
     "name": "stdout",
     "output_type": "stream",
     "text": [
      "Wall time: 12.7 s\n"
     ]
    },
    {
     "data": {
      "text/plain": [
       "<module 'matplotlib.pyplot' from 'C:\\\\Users\\\\Saeb\\\\Anaconda3\\\\lib\\\\site-packages\\\\matplotlib\\\\pyplot.py'>"
      ]
     },
     "execution_count": 36,
     "metadata": {},
     "output_type": "execute_result"
    },
    {
     "data": {
      "image/png": "[encoded data removed]",
      "text/plain": [
       "<matplotlib.figure.Figure at 0x2c66a0388d0>"
      ]
     },
     "metadata": {},
     "output_type": "display_data"
    }
   ],
   "source": [
    "%time plot_learning_curve(pipelineSV, \"accuracy vs. training set size\", X_train, y_train, cv=5)"
   ]
  },
  {
   "cell_type": "markdown",
   "metadata": {},
   "source": [
    "#### Training using Neural-Network"
   ]
  },
  {
   "cell_type": "code",
   "execution_count": 37,
   "metadata": {},
   "outputs": [
    {
     "name": "stdout",
     "output_type": "stream",
     "text": [
      "Wall time: 17.4 s\n",
      "             precision    recall  f1-score   support\n",
      "\n",
      "          b       0.92      0.94      0.93      2957\n",
      "          e       0.98      0.96      0.97      3074\n",
      "          m       0.96      0.97      0.96      2917\n",
      "          t       0.94      0.94      0.94      3052\n",
      "\n",
      "avg / total       0.95      0.95      0.95     12000\n",
      "\n"
     ]
    }
   ],
   "source": [
    "from sklearn.neural_network import MLPClassifier\n",
    "\n",
    "# Initializing Pipline\n",
    "pipelineMLP = Pipeline([\n",
    "    ('bow', CountVectorizer()),  # strings to token integer counts   ====  analyzer=normalize_text\n",
    "    ('tfidf', TfidfTransformer()),  # integer counts to weighted TF-IDF scores\n",
    "    ('classifier', MLPClassifier(hidden_layer_sizes=2)),  # train on TF-IDF vectors   # hidden_layer_sizes=2\n",
    "])\n",
    "\n",
    "# Training the model\n",
    "%time pipelineMLP.fit(X_train, y_train)\n",
    "\n",
    "# Saving training results using Pickle\n",
    "with open('pipelineMLP.pickle', 'wb') as handle:\n",
    "    pickle.dump(pipelineMLP, handle, protocol=pickle.HIGHEST_PROTOCOL)\n",
    "\n",
    "# Predictions\n",
    "predictionsMLP = pipelineMLP.predict(X_test)\n",
    "\n",
    "# Model Evaluation\n",
    "print(classification_report(predictionsMLP, y_test))"
   ]
  },
  {
   "cell_type": "markdown",
   "metadata": {},
   "source": [
    "##### Cross Validation"
   ]
  },
  {
   "cell_type": "code",
   "execution_count": 38,
   "metadata": {},
   "outputs": [
    {
     "name": "stdout",
     "output_type": "stream",
     "text": [
      "Wall time: 1min 17s\n",
      "Cross-validation scores: [ 0.93501161  0.94643814  0.93982143  0.94625     0.94426581]\n",
      "Average cross-validation score: 0.94 +/- 0.00\n"
     ]
    }
   ],
   "source": [
    "%time scoresMLP = cross_val_score(pipelineMLP, X_train, y_train, cv = 5)\n",
    "print(\"Cross-validation scores: {}\".format(scoresMLP))\n",
    "print(\"Average cross-validation score: {:.2f} +/- {:.2f}\".format(scoresMLP.mean(), scoresMLP.std()))\n",
    "scoresMLP = scoresMLP.mean()"
   ]
  },
  {
   "cell_type": "code",
   "execution_count": 39,
   "metadata": {
    "collapsed": true
   },
   "outputs": [],
   "source": [
    "# For resource limitations, this part could not work properly\n",
    "# %time plot_learning_curve(pipelineMLP, \"accuracy vs. training set size\", X_train, y_train, cv=5)"
   ]
  },
  {
   "cell_type": "markdown",
   "metadata": {},
   "source": [
    "## TensorFlow , Keras"
   ]
  },
  {
   "cell_type": "code",
   "execution_count": 41,
   "metadata": {},
   "outputs": [
    {
     "name": "stderr",
     "output_type": "stream",
     "text": [
      "Using TensorFlow backend.\n"
     ]
    }
   ],
   "source": [
    "import collections\n",
    "import nltk \n",
    "import pickle\n",
    "from keras.preprocessing.sequence import pad_sequences\n",
    "from keras.models import load_model\n",
    "from keras.utils import np_utils\n",
    "from keras.layers import Dense, Dropout, SpatialDropout1D\n",
    "from keras.layers.convolutional import Conv1D\n",
    "from keras.layers.embeddings import Embedding\n",
    "from keras.layers.pooling import GlobalMaxPooling1D\n",
    "from keras.models import Sequential\n",
    "from keras.preprocessing.sequence import pad_sequences"
   ]
  },
  {
   "cell_type": "code",
   "execution_count": 42,
   "metadata": {
    "collapsed": true
   },
   "outputs": [],
   "source": [
    "# dfnews = pd.read_csv(\"uci-news-aggregator_small.csv\")\n",
    "dfnews=news.copy()"
   ]
  },
  {
   "cell_type": "code",
   "execution_count": 43,
   "metadata": {
    "collapsed": true
   },
   "outputs": [],
   "source": [
    "dfnews=dfnews[['CATEGORY','TITLE']].copy()\n",
    "# change categories to numbers\n",
    "dfnews.loc[dfnews[\"CATEGORY\"] == \"e\", \"CATEGORY\"] = 0\n",
    "dfnews.loc[dfnews[\"CATEGORY\"] == \"b\", \"CATEGORY\"] = 1\n",
    "dfnews.loc[dfnews[\"CATEGORY\"] == \"t\", \"CATEGORY\"] = 2\n",
    "dfnews.loc[dfnews[\"CATEGORY\"] == \"m\", \"CATEGORY\"] = 3"
   ]
  },
  {
   "cell_type": "code",
   "execution_count": 46,
   "metadata": {},
   "outputs": [],
   "source": [
    "counter = collections.Counter()\n",
    "maxlen = 0\n",
    "for i in range(0, len(dfnews)):\n",
    "  \n",
    "    sent = dfnews.iloc[i]['TITLE']\n",
    "    words = [x.lower() for x in nltk.word_tokenize(sent)]\n",
    "    if len(words) > maxlen:\n",
    "        maxlen = len(words)\n",
    "    for word in words:\n",
    "            counter[word] += 1\n"
   ]
  },
  {
   "cell_type": "code",
   "execution_count": 53,
   "metadata": {
    "collapsed": true
   },
   "outputs": [],
   "source": [
    "VOCAB_SIZE=10000\n",
    "word2index = collections.defaultdict(int)\n",
    "for wid, word in enumerate(counter.most_common(VOCAB_SIZE)):\n",
    "    word2index[word[0]] = wid + 1\n",
    "vocab_sz = len(word2index) + 1\n",
    "index2word = {v:k for k, v in word2index.items()}"
   ]
  },
  {
   "cell_type": "code",
   "execution_count": 54,
   "metadata": {
    "collapsed": true
   },
   "outputs": [],
   "source": [
    "#  Save word2index to Pickle file\n",
    "import pickle\n",
    "# write python dict to a file\n",
    "output = open('word2index.pkl', 'wb')\n",
    "pickle.dump(word2index, output)\n",
    "output.close()"
   ]
  },
  {
   "cell_type": "code",
   "execution_count": 55,
   "metadata": {
    "collapsed": true
   },
   "outputs": [],
   "source": [
    "# load word2index Pickle\n",
    "pkl_file = open('word2index.pkl', 'rb')\n",
    "word2index = pickle.load(pkl_file)\n",
    "pkl_file.close()"
   ]
  },
  {
   "cell_type": "code",
   "execution_count": 56,
   "metadata": {
    "collapsed": true
   },
   "outputs": [],
   "source": [
    "# prepare data ...... for the CNN  model\n",
    "\n",
    "xs, ys = [], []\n",
    "# with open(INPUT_FILE, \"r\", encoding='utf-8') as f:\n",
    "#     for line in f:\n",
    "for i in range(0, len(dfnews)):\n",
    "#         label, sent = line.strip().split(\"\\t\")\n",
    "    sent = dfnews.iloc[i]['TITLE']\n",
    "    label=dfnews.iloc[i]['CATEGORY']\n",
    "    ys.append(int(label))\n",
    "    words = [x.lower() for x in nltk.word_tokenize(sent)]\n",
    "    wids = [word2index[word] for word in words]\n",
    "    xs.append(wids)"
   ]
  },
  {
   "cell_type": "code",
   "execution_count": 57,
   "metadata": {},
   "outputs": [
    {
     "name": "stdout",
     "output_type": "stream",
     "text": [
      "64\n"
     ]
    }
   ],
   "source": [
    "print (maxlen)\n",
    "# set maxlen \n",
    "maxlen=64"
   ]
  },
  {
   "cell_type": "code",
   "execution_count": 58,
   "metadata": {},
   "outputs": [
    {
     "name": "stdout",
     "output_type": "stream",
     "text": [
      "(28000, 64) (12000, 64) (28000, 4) (12000, 4)\n"
     ]
    }
   ],
   "source": [
    "X = pad_sequences(xs, maxlen=maxlen)\n",
    "y = np_utils.to_categorical(ys, num_classes=4)\n",
    "\n",
    "X_train, X_test, y_train, y_test = train_test_split(X, y, test_size=0.3, \n",
    "                                                random_state=42)\n",
    "print(X_train.shape, X_test.shape, y_train.shape, y_test.shape)"
   ]
  },
  {
   "cell_type": "markdown",
   "metadata": {},
   "source": [
    "### CNN model"
   ]
  },
  {
   "cell_type": "code",
   "execution_count": 59,
   "metadata": {
    "collapsed": true
   },
   "outputs": [],
   "source": [
    "# Model paameters\n",
    "EMBED_SIZE=100\n",
    "NUM_WORDS=4\n",
    "NUM_FILTERS=256\n",
    "NUM_EPOCHS=1\n",
    "BATCH_SIZE=100"
   ]
  },
  {
   "cell_type": "code",
   "execution_count": 60,
   "metadata": {},
   "outputs": [],
   "source": [
    "model = Sequential()\n",
    "model.add(Embedding(vocab_sz, EMBED_SIZE, input_length=maxlen))\n",
    "#model.add(SpatialDropout1D(Dropout(0.2))) #---- not supported in keras 2\n",
    "model.add(SpatialDropout1D(0.2))\n",
    "model.add(Conv1D(filters=NUM_FILTERS, kernel_size=NUM_WORDS, activation=\"relu\"))\n",
    "model.add(GlobalMaxPooling1D())\n",
    "model.add(Dense(4, activation=\"softmax\"))"
   ]
  },
  {
   "cell_type": "code",
   "execution_count": 61,
   "metadata": {},
   "outputs": [
    {
     "name": "stdout",
     "output_type": "stream",
     "text": [
      "Train on 28000 samples, validate on 12000 samples\n",
      "Epoch 1/1\n",
      "28000/28000 [==============================] - 78s - loss: 0.1675 - acc: 0.9298 - val_loss: 0.0545 - val_acc: 0.9801\n"
     ]
    }
   ],
   "source": [
    "# X_train, X_test, y_train, y_test\n",
    "model.compile(optimizer=\"adam\", loss=\"binary_crossentropy\",\n",
    "              metrics=[\"accuracy\"])\n",
    "history = model.fit(X_train, y_train, batch_size=BATCH_SIZE, verbose=True,\n",
    "                    epochs=NUM_EPOCHS,\n",
    "                    validation_data=(X_test, y_test))  "
   ]
  },
  {
   "cell_type": "code",
   "execution_count": 62,
   "metadata": {},
   "outputs": [
    {
     "name": "stdout",
     "output_type": "stream",
     "text": [
      "11968/12000 [============================>.] - ETA: 0sTest score: 0.055, accuracy: 0.980\n"
     ]
    }
   ],
   "source": [
    "# evaluate model\n",
    "score = model.evaluate(X_test, y_test, verbose=True ) # verbose=1 to see output\n",
    "scoreCNN=score[1]\n",
    "print(\"Test score: {:.3f}, accuracy: {:.3f}\".format(score[0], score[1]))"
   ]
  },
  {
   "cell_type": "code",
   "execution_count": 67,
   "metadata": {
    "collapsed": true
   },
   "outputs": [],
   "source": [
    "# save the model\n",
    "model.save('news_cnn.mdl',overwrite=True,include_optimizer=True)"
   ]
  },
  {
   "cell_type": "code",
   "execution_count": 68,
   "metadata": {
    "collapsed": true
   },
   "outputs": [],
   "source": [
    "# load the model\n",
    "from keras.models import load_model\n",
    "mymodel =  load_model('news_cnn.mdl')"
   ]
  },
  {
   "cell_type": "code",
   "execution_count": 69,
   "metadata": {},
   "outputs": [],
   "source": [
    "# fuction to tell predictions  ...\n",
    "\n",
    "def pred_cnn(title , cnn_model= 'news_cnn.mdl',word2indexfile='word2index.pkl'):\n",
    "    pkl_file = open('word2index.pkl', 'rb')\n",
    "    word2index = pickle.load(pkl_file)\n",
    "    \n",
    "    mymodel =  load_model(cnn_model) \n",
    "    \n",
    "    xs = []\n",
    "    words = [x.lower() for x in nltk.word_tokenize(title)]\n",
    "    wids  = [word2index[word] for word in words]\n",
    "    xs.append(wids)\n",
    "    X = pad_sequences(xs, maxlen=64)\n",
    "    preds = mymodel.predict_classes(X)\n",
    "    lst=['e','b','t','m'] \n",
    "    return  lst [preds[0]]"
   ]
  },
  {
   "cell_type": "code",
   "execution_count": 70,
   "metadata": {},
   "outputs": [],
   "source": [
    "# pred_cnn('love')"
   ]
  },
  {
   "cell_type": "code",
   "execution_count": null,
   "metadata": {
    "collapsed": true
   },
   "outputs": [],
   "source": []
  },
  {
   "cell_type": "markdown",
   "metadata": {},
   "source": [
    "### Model Scores\n",
    "In this sub-section we will store the sore results using Pickle, to be used later in our data product."
   ]
  },
  {
   "cell_type": "code",
   "execution_count": 71,
   "metadata": {
    "collapsed": true
   },
   "outputs": [],
   "source": [
    "# scoresNB = 0.92\n",
    "# scoresLOG = 0.94\n",
    "# scoresRF = 0.91\n",
    "# scoresSV = 0.95\n",
    "# scoresMLP = 0.92\n",
    "# scoreCNN=0.98\n",
    "\n",
    "df_scores = pd.Series([scoresNB, scoresLOG, scoresRF, scoresSV, scoresMLP,scoreCNN], index=['1', '2', '3','4','5','6'])\n",
    "\n",
    "# Saving score results using Pickle\n",
    "with open('df_scores.pickle', 'wb') as handle:\n",
    "    pickle.dump(df_scores, handle, protocol=pickle.HIGHEST_PROTOCOL)"
   ]
  },
  {
   "cell_type": "markdown",
   "metadata": {},
   "source": [
    "# System Evaluation and Deployment\n",
    "In this section we will create the <b>ensemble_predic</b> funtion. This function will take in a text, which is the headline of a news artice, then it gives back the category of the given article headline. The prediction works as follows. It predict the category of the given text employing different supervised learning models. As the label is discrete, then, we have employed different classifiers as shown in the <b>News Classification</b> section. The prediction result is based on the highest mean of each category group."
   ]
  },
  {
   "cell_type": "code",
   "execution_count": 72,
   "metadata": {},
   "outputs": [],
   "source": [
    "# We neglected the Decision Treen Classification model as a result of its lower accuracy in our case\n",
    "all_scores = read_from_pickle('df_scores')\n",
    "\n",
    "def ensemble_predic(p_title, print_allowed = False):\n",
    "    results = pd.DataFrame({'model' : pd.Series(['NB', 'LOG', 'RF', 'SV', 'MLP','CNN'], index=['1', '2', '3','4','5','6']),\n",
    "                            'class' : pd.Series([read_from_pickle('pipelineNB').predict([p_title])[0], \n",
    "                                                 read_from_pickle('pipelineLOG').predict([p_title])[0],\n",
    "                                                 read_from_pickle('pipelineRF').predict([p_title])[0],\n",
    "                                                 read_from_pickle('pipelineSV').predict([p_title])[0],\n",
    "                                                 read_from_pickle('pipelineMLP').predict([p_title])[0],\n",
    "                                                 pred_cnn(p_title)], index=['1', '2', '3','4','5','6']),\n",
    "                           'percent' : all_scores})\n",
    "\n",
    "     \n",
    "    if print_allowed:\n",
    "        print(results)\n",
    "    return results.groupby('class')['percent'].mean().idxmax()"
   ]
  },
  {
   "cell_type": "code",
   "execution_count": 73,
   "metadata": {},
   "outputs": [
    {
     "name": "stdout",
     "output_type": "stream",
     "text": [
      "1/1 [==============================] - 0s\n",
      "  class model   percent\n",
      "1     m    NB  0.950500\n",
      "2     b   LOG  0.953643\n",
      "3     b    RF  0.930393\n",
      "4     b    SV  0.962750\n",
      "5     e   MLP  0.942357\n",
      "6     m   CNN  0.980104\n"
     ]
    },
    {
     "data": {
      "text/plain": [
       "'m'"
      ]
     },
     "execution_count": 73,
     "metadata": {},
     "output_type": "execute_result"
    }
   ],
   "source": [
    "# pred_cnn('health')()\n",
    "\n",
    "ensemble_predic('',True)"
   ]
  },
  {
   "cell_type": "code",
   "execution_count": 74,
   "metadata": {},
   "outputs": [
    {
     "data": {
      "text/plain": [
       "'m'"
      ]
     },
     "execution_count": 74,
     "metadata": {},
     "output_type": "execute_result"
    }
   ],
   "source": [
    " read_from_pickle('pipelineMLP').predict(['health'])[0]"
   ]
  },
  {
   "cell_type": "markdown",
   "metadata": {},
   "source": [
    "## Model Evaluation\n",
    "In this sub-section we will evaluate our model using the Test set resulted from the split preocess. We will calculate the expected prediction using the <b>ensemble_predic</b> function, and compare the prediction results against the actual category of each story in the test set. Significantly, without a normalizing function; specifically removing stops words; the results seem to be better in terms of accuracy. From the confusion matrix results, shown below, it can be seen that our Prediction Model gives good results with high accuracy percentage. Nevertheles, for hardware resources issues, we could not evaluate our model on the whole testing dataset (X_test). Rather, the model has been tested against 5000 randomly-selected observations (articles)."
   ]
  },
  {
   "cell_type": "code",
   "execution_count": null,
   "metadata": {},
   "outputs": [],
   "source": [
    "X_test_df = pd.DataFrame(X_test)\n",
    "X_test_df =  X_test_df.sample(replace=True, n=5000)\n",
    "# X_test_df['CATEGORY']=y_test\n",
    "# %time X_test_df['EXPECTED_CATEGORY'] = X_test_df.apply(lambda row: ensemble_predic(row['TITLE']), axis=1)\n",
    "#%time X_test_df['EXPECTED_CATEGORY'] = X_test_df['TITLE'].apply(ensemble_predic)\n",
    "\n",
    "# print('Confusion matrix:')\n",
    "# print(classification_report(X_test_df.EXPECTED_CATEGORY, X_test_df.CATEGORY))"
   ]
  },
  {
   "cell_type": "markdown",
   "metadata": {},
   "source": [
    "## Model Deployment\n",
    "In this sub-section, we have built a simple user interface that accepts a text and gives back the most likely classification."
   ]
  },
  {
   "cell_type": "code",
   "execution_count": null,
   "metadata": {},
   "outputs": [],
   "source": [
    "caption = widgets.Label('Enter an article here:')\n",
    "text = widgets.Textarea()\n",
    "button = widgets.Button(description=\"Classify\")\n",
    "display(caption,text,button)\n",
    "\n",
    "def handle_submit(sender):\n",
    "    message = text.value\n",
    "    clear_output()\n",
    "    print('Text: '+message)\n",
    "    print('\\n')\n",
    "    print('Most likely prediction: ', class_desc(ensemble_predic(message, True)))\n",
    "    print('\\n-----------------------------------------------------------------------')\n",
    "    print('b = business, t = science and technology, e = entertainment, m = health')\n",
    "    \n",
    "button.on_click(handle_submit)\n",
    "\n",
    "\n",
    "'''\n",
    "   Testing Examples:\n",
    "    - Testing examples:\n",
    "    - IBM sales has grown 33% in the last 5 years\n",
    "    - Pearson shareholders reject chief executive's £1.5m pay package \n",
    "    - World Bank transfers $5.6 million to PA\n",
    "    - Child’s Play Is Good for All of Us\n",
    "    - Why Kids Shouldn’t Sit Still in Class\n",
    "    - Why Deep Breathing May Keep Us Calm\n",
    "    - In Rare Unity, Hospitals, Doctors and Insurers Criticize Health Bill\n",
    "    - Scientists can now count birds from space\n",
    "    - What to expect with the iPhone 8\n",
    "    - See Mark Hamill prank 'Star Wars' superfans\n",
    "    - Lyft and Waymo Reach Deal to Collaborate on Self-Driving Cars\n",
    "'''"
   ]
  },
  {
   "cell_type": "markdown",
   "metadata": {
    "collapsed": true
   },
   "source": [
    "# Conclusion and Future Work\n",
    "In this project, news classifiers has been developed. Some supervised learning machine learning models were employed in the prediction of the category of news story. As seen in the deployment section, each model could give different results from otherclassifiers, and so, the final result was calculated based on the highest mean of a ctegory result.\n",
    "\n",
    "As seen in this piece of work, the data tested was for news stories witten in the English language. As a futeure work, we will re-train and test our model on articles in the Arabic language. An aggregator can also be built employing the desired classifier. This aggregator shall be enabled to collect news stories based on a specific category that is of an interest of a specific user."
   ]
  },
  {
   "cell_type": "markdown",
   "metadata": {},
   "source": [
    "<p name=\"references\" id=\"references\" style=\"    font-size: 185.7%;margin: 1.08em 0 0 0;font-weight: bold; line-height: 1.0;\">References</p> \n",
    "\n",
    "[1] Lichman, M. (2013). UCI Machine Learning Repository [http://archive.ics.uci.edu/ml]. Irvine, CA: University of California, School of Information and Computer Science."
   ]
  },
  {
   "cell_type": "code",
   "execution_count": null,
   "metadata": {
    "collapsed": true
   },
   "outputs": [],
   "source": []
  },
  {
   "cell_type": "code",
   "execution_count": null,
   "metadata": {
    "collapsed": true
   },
   "outputs": [],
   "source": []
  }
 ],
 "metadata": {
  "anaconda-cloud": {},
  "kernelspec": {
   "display_name": "Python 3",
   "language": "python",
   "name": "python3"
  },
  "language_info": {
   "codemirror_mode": {
    "name": "ipython",
    "version": 3
   },
   "file_extension": ".py",
   "mimetype": "text/x-python",
   "name": "python",
   "nbconvert_exporter": "python",
   "pygments_lexer": "ipython3",
   "version": "3.5.0"
  },
  "widgets": {
   "state": {
    "1c90d99b62634abf8fce19a104423eee": {
     "views": [
      {
       "cell_index": 76
      }
     ]
    },
    "555ffa48068e4e85a2385ea7a3ae38a5": {
     "views": [
      {
       "cell_index": 76
      }
     ]
    },
    "bde22dda2891475c9f06f32dc88cf4cc": {
     "views": [
      {
       "cell_index": 76
      }
     ]
    },
    "c0d3ada5252d4073afb0c1e464cfa2e2": {
     "views": [
      {
       "cell_index": 76
      }
     ]
    },
    "c36afe15d44c4d1cb50bb01ad50cfeb1": {
     "views": [
      {
       "cell_index": 76
      }
     ]
    },
    "db424f2042e345cd95b5d41fd0fe6458": {
     "views": [
      {
       "cell_index": 76
      }
     ]
    }
   },
   "version": "1.2.0"
  }
 },
 "nbformat": 4,
 "nbformat_minor": 1
}
